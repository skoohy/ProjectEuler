{
 "cells": [
  {
   "cell_type": "markdown",
   "id": "dc9360cd",
   "metadata": {},
   "source": [
    "# Problem 1: Multiples of 3 or 5\n",
    "\n",
    "### Description: \n",
    "If we list all the natural numbers below 10 that are multiples of 3 or 5, we get 3, 5, 6 and 9. The sum of these multiples is 23. Find the sum of all the multiples of 3 or 5 below 1000."
   ]
  },
  {
   "cell_type": "markdown",
   "id": "519ff9eb",
   "metadata": {},
   "source": [
    "It is always a goood idea to workout the base case given to us. We can list the multiples of 3, starting at 3 ending at 10 by"
   ]
  },
  {
   "cell_type": "code",
   "execution_count": 5,
   "id": "a30049d6",
   "metadata": {},
   "outputs": [
    {
     "data": {
      "text/plain": [
       "[3, 6, 9]"
      ]
     },
     "execution_count": 5,
     "metadata": {},
     "output_type": "execute_result"
    }
   ],
   "source": [
    "threes = list(range(3, 10, 3))\n",
    "print(threes)"
   ]
  },
  {
   "cell_type": "markdown",
   "id": "ca6d9eb1",
   "metadata": {},
   "source": [
    "We can do the same process for the multiple of 5"
   ]
  },
  {
   "cell_type": "code",
   "execution_count": 6,
   "id": "74e98e51",
   "metadata": {},
   "outputs": [
    {
     "data": {
      "text/plain": [
       "[5]"
      ]
     },
     "execution_count": 6,
     "metadata": {},
     "output_type": "execute_result"
    }
   ],
   "source": [
    "fives = list(range(5, 10, 5))\n",
    "print(fives)"
   ]
  },
  {
   "cell_type": "markdown",
   "id": "8656c729",
   "metadata": {},
   "source": [
    "Unioning the two list and sorting them we get"
   ]
  },
  {
   "cell_type": "code",
   "execution_count": 10,
   "id": "ea0a72a7",
   "metadata": {},
   "outputs": [
    {
     "data": {
      "text/plain": [
       "[3, 5, 6, 9]"
      ]
     },
     "execution_count": 10,
     "metadata": {},
     "output_type": "execute_result"
    }
   ],
   "source": [
    "union = threes + fives \n",
    "union.sort()\n",
    "union"
   ]
  },
  {
   "cell_type": "markdown",
   "id": "ae95d708",
   "metadata": {},
   "source": [
    "This gives us a good method for finding the solution to the base case. However when expanding to larger intervals there is the possibilites that multiples may be repeated"
   ]
  },
  {
   "cell_type": "code",
   "execution_count": 17,
   "id": "3e37c381",
   "metadata": {},
   "outputs": [
    {
     "name": "stdout",
     "output_type": "stream",
     "text": [
      "[3, 6, 9, 12, 15, 18]\n",
      "[5, 10, 15]\n"
     ]
    }
   ],
   "source": [
    "threes = list(range(3, 20, 3))\n",
    "fives  = list(range(5, 20, 5))\n",
    "print(threes)\n",
    "print(fives)"
   ]
  },
  {
   "cell_type": "markdown",
   "id": "a8a18815",
   "metadata": {},
   "source": [
    "When can see that \"15\" is repeated in both lists, since 3x5=15, all the repeated multiples will be some multiple of 15, we need to get rid of those. Our goal is to find the sum of all the multiples of 3 or 5 below 1000. In the set of 3's there will be elements that are multiples of 15, the set of 5's will do the same, we can substract the 1 set of fifteens out so that non are repated."
   ]
  },
  {
   "cell_type": "markdown",
   "id": "984977b8",
   "metadata": {},
   "source": [
    "We create a function that takes in our ending point, N, use the sums the list of 3's, 5's and 15's, add the sum from the 3's and 5's then subtract a set of 15's."
   ]
  },
  {
   "cell_type": "code",
   "execution_count": 21,
   "id": "36c133e9",
   "metadata": {},
   "outputs": [
    {
     "name": "stdout",
     "output_type": "stream",
     "text": [
      "233168\n",
      "0.0 seconds\n"
     ]
    }
   ],
   "source": [
    "import time\n",
    "start_time = time.time()\n",
    "\n",
    "def sum_of_multiples(N):\n",
    "    threes   = range(3, N, 3)\n",
    "    fives    = range(5, N, 5)\n",
    "    fifteens = range(15, N, 15)\n",
    "    return sum(threes) + sum(fives) - sum(fifteens)\n",
    "\n",
    "print(sum_of_multiples(1000))\n",
    "\n",
    "print(\"%s seconds\" % (time.time() - start_time))"
   ]
  }
 ],
 "metadata": {
  "kernelspec": {
   "display_name": "Python 3 (ipykernel)",
   "language": "python",
   "name": "python3"
  },
  "language_info": {
   "codemirror_mode": {
    "name": "ipython",
    "version": 3
   },
   "file_extension": ".py",
   "mimetype": "text/x-python",
   "name": "python",
   "nbconvert_exporter": "python",
   "pygments_lexer": "ipython3",
   "version": "3.9.12"
  }
 },
 "nbformat": 4,
 "nbformat_minor": 5
}
