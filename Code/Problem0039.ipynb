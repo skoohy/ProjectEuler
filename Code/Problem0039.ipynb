{
 "cells": [
  {
   "cell_type": "markdown",
   "id": "692fef76",
   "metadata": {},
   "source": [
    "# Problem 39: Integer right triangles"
   ]
  },
  {
   "cell_type": "markdown",
   "id": "eb7c522a",
   "metadata": {},
   "source": [
    "### Description: \n",
    "\n",
    "If $p$ is the perimeter of a right angle triangle with integral length sides, $\\{a,b,c\\}$, there are exactly three solutions for $p = 120$.\n",
    "\n",
    "$$ \\{20,48,52\\}, \\{24,45,51\\}, \\{30,40,50\\} $$\n",
    "\n",
    "For which value of $p ≤ 1000$, is the number of solutions maximised?"
   ]
  },
  {
   "cell_type": "markdown",
   "id": "516395f6",
   "metadata": {},
   "source": [
    "I first present my initial solution to the problem, then provide a much quicker and slighlty simpiler solution. "
   ]
  },
  {
   "cell_type": "markdown",
   "id": "7cffe988",
   "metadata": {},
   "source": [
    "We calculate the perimeter of a triangle by the following \n",
    "\n",
    "$$ a+b+c = p $$\n",
    "\n",
    "We'll begin by solving the base case. We create a range for all values of $a$ and $b$ then calculate $c$ by\n",
    "\n",
    "$$ c = \\sqrt{a^2 + b^2} $$\n",
    "\n",
    "We now have two condition to follow. We present $a$ and $b$ then to ensure we are following a right triangle we calculate $c$ using the pythagorean theorem. Once we have $a,b,c$ we need $a+b+c=p$ to be true. We also create an empty list that will contain the triangle side length. "
   ]
  },
  {
   "cell_type": "code",
   "execution_count": null,
   "id": "77eecb2c",
   "metadata": {},
   "outputs": [],
   "source": [
    "import numpy as np\n",
    "side_lengths = []\n",
    "\n",
    "p = 120\n",
    "for a in range(1, 500):\n",
    "    for b in range(a, 500):\n",
    "        c = np.sqrt(a**2 + b**2)\n",
    "        if a + b + c == p:\n",
    "            side_lengths.append([a,b,c])\n",
    "            \n",
    "print(side_lengths)\n",
    "print(f'A right triangle with perimeter = {p}, has {len(side_lengths)} solutions such that a+b+c={p}')"
   ]
  },
  {
   "cell_type": "markdown",
   "id": "588a38c2",
   "metadata": {},
   "source": [
    "Let's now make this into a while loop to calculated the number of solution from $p=12$ to $p=120$, we use $12$ since the smallest pythagorean triple is $\\{3,4,5\\}$ which means that $3+4+5=12$."
   ]
  },
  {
   "cell_type": "code",
   "execution_count": null,
   "id": "8cf8eada",
   "metadata": {},
   "outputs": [],
   "source": [
    "import numpy as np\n",
    "import time\n",
    "start_time = time.time()\n",
    "\n",
    "\n",
    "max_side_lengths = 0\n",
    "p = 12\n",
    "while p <= 120:\n",
    "    \n",
    "    side_lengths = []\n",
    "    \n",
    "    for a in range(1, 500):\n",
    "        for b in range(a, 500):\n",
    "            c = np.sqrt(a**2 + b**2)\n",
    "            if a + b + c == p:\n",
    "                side_lengths.append([a,b,c])\n",
    "\n",
    "    if len(side_lengths) > max_side_lengths:\n",
    "        max_side_lengths = len(side_lengths)\n",
    "        print(f'Max Side Lengths = {max_side_lengths}, at a value p = {p}') \n",
    "        \n",
    "    p = p + 1\n",
    "    \n",
    "    \n",
    "end_time = time.time()\n",
    "print(f'Program Execution Time: {end_time-start_time} seconds')"
   ]
  },
  {
   "cell_type": "markdown",
   "id": "84585fcf",
   "metadata": {},
   "source": [
    "Now to solve the actual problem, we will assume that the case for $p = 120$ does not represent the solution to save computation time. All we need to do is change $ p <= 120 $ to $ p <= 1000 $ and change our starting $p$ from $12$ to $120$."
   ]
  },
  {
   "cell_type": "code",
   "execution_count": null,
   "id": "90675ac8",
   "metadata": {},
   "outputs": [],
   "source": [
    "import numpy as np\n",
    "import time as time\n",
    "start_time = time.time()\n",
    "\n",
    "\n",
    "max_side_lengths = 0\n",
    "p = 120\n",
    "while p <= 1000:\n",
    "    \n",
    "    side_lengths = []\n",
    "\n",
    "    for a in range(1, 500):\n",
    "        for b in range(a, 500):\n",
    "            c = np.sqrt(a**2 + b**2)\n",
    "            if a + b + c == p:\n",
    "                side_lengths.append([a,b,c])\n",
    "\n",
    "    if len(side_lengths) > max_side_lengths:\n",
    "        max_side_lengths = len(side_lengths)\n",
    "        print(f'Max Side Lengths = {max_side_lengths}, at a value p = {p}')             \n",
    "    p = p + 1\n",
    "    \n",
    "    \n",
    "end_time = time.time()\n",
    "print(f'Program Execution Time: {end_time-start_time} seconds')"
   ]
  },
  {
   "cell_type": "markdown",
   "id": "d6900df5",
   "metadata": {},
   "source": [
    "The program outputs the correct answer in about four minutes, which is not too bad. However, we can do better."
   ]
  },
  {
   "cell_type": "markdown",
   "id": "7b0f590f",
   "metadata": {},
   "source": [
    "Instead of appending the individual side lengths to a list and checking if the current list is larger than the previous, we can simply add up the side lengths, append that to a list and find which perimeters are most common in our list. As an example if we see that $p=1$ is repeated the most in our list then $1$ is our answer. In order to find the count of all elements in a list we will use the \"collections\" module. An example of how this module works can be seen below."
   ]
  },
  {
   "cell_type": "code",
   "execution_count": null,
   "id": "56d73d43",
   "metadata": {},
   "outputs": [],
   "source": [
    "from collections import Counter\n",
    "# We use the Counter function from collections\n",
    "my_list = [1, 2, 1, 5, 136, 860, 8, 8, 1, 3, 604, 3, 2, \"5\"]\n",
    "\n",
    "counts = Counter(my_list)\n",
    "\n",
    "print(counts)\n",
    "# Prints a dictionary with the key being each number in our list and the corresponding value pairs\n",
    "# being the number of times the key is repeated\n",
    "\n",
    "most_common_num = counts.most_common(1)\n",
    "print(most_common_num)\n",
    "# This gives us the most common number in our list"
   ]
  },
  {
   "cell_type": "markdown",
   "id": "d2c2ac41",
   "metadata": {},
   "source": [
    "We can see that $1$ is repeated three times. We will change one more thing, instead of useing a while loop we can use the same for loop seen before, with a slight change to the if statement. We will consider $a + b + c <= p$ along with including the condition that $int(c) = c$. We include the $int(c) = c$ part due to the $<=$ condition. It is possible that with our $a$ and $b$ values $c$ will not be an integer, which is not what we want. The final implementation for the solution is found below."
   ]
  },
  {
   "cell_type": "code",
   "execution_count": null,
   "id": "9e81a424",
   "metadata": {},
   "outputs": [],
   "source": [
    "# Source: https://radiusofcircle.blogspot.com/2016/05/problem-39-project-euler-solution-with-python.html\n",
    "import numpy as np\n",
    "import time\n",
    "from collections import Counter\n",
    "\n",
    "start_time = time.time()\n",
    "p = 1000\n",
    "\n",
    "perimeters = []\n",
    "\n",
    "for a in range(1, 500):\n",
    "    for b in range(a, 500):\n",
    "        c = np.sqrt(a**2 + b**2)\n",
    "        if int(c) == c and a + b + c <= p:\n",
    "            perimeters.append(a+b+c)\n",
    "\n",
    "p = Counter(perimeters)\n",
    "\n",
    "print(p.most_common(1))\n",
    "\n",
    "end_time = time.time()\n",
    "print(f'Program Execution Time: {end_time-start_time} seconds')"
   ]
  },
  {
   "cell_type": "markdown",
   "id": "946087ac",
   "metadata": {},
   "source": [
    "As we can see we achieve the same solution but much quicker."
   ]
  }
 ],
 "metadata": {
  "kernelspec": {
   "display_name": "Python 3 (ipykernel)",
   "language": "python",
   "name": "python3"
  },
  "language_info": {
   "codemirror_mode": {
    "name": "ipython",
    "version": 3
   },
   "file_extension": ".py",
   "mimetype": "text/x-python",
   "name": "python",
   "nbconvert_exporter": "python",
   "pygments_lexer": "ipython3",
   "version": "3.9.12"
  }
 },
 "nbformat": 4,
 "nbformat_minor": 5
}
