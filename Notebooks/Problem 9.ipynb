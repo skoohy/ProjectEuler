{
 "cells": [
  {
   "cell_type": "markdown",
   "id": "96d50adb",
   "metadata": {},
   "source": [
    "# Problem 9: Special Pythagorean triplet"
   ]
  },
  {
   "cell_type": "markdown",
   "id": "e5c86dc6",
   "metadata": {},
   "source": [
    "### Description: \n",
    "A Pythagorean triplet is a set of three natural numbers, a < b < c, for which,\n",
    "\n",
    "$$ a^2 + b^2 = c^2 $$\n",
    "\n",
    "For example, 32 + 42 = 9 + 16 = 25 = 52.\n",
    "\n",
    "There exists exactly one Pythagorean triplet for which a + b + c = 1000.\n",
    "Find the product abc."
   ]
  },
  {
   "cell_type": "markdown",
   "id": "35783a05",
   "metadata": {},
   "source": [
    "Since we know that $a < b < c$, we can say that $ a \\neq b \\neq c \\neq 0 $"
   ]
  },
  {
   "cell_type": "markdown",
   "id": "73b92319",
   "metadata": {},
   "source": [
    "We can create a loop to tests all possibilities of $a$ and $b$, where $c = 1000-b-a$, and find the case such that $a^2+b^2=c^2$"
   ]
  },
  {
   "cell_type": "markdown",
   "id": "86846fda",
   "metadata": {},
   "source": [
    "Since we know $a \\neq 0$ we start with $a=1$ and since $a<b$ we can start $b$ at $a+1$"
   ]
  },
  {
   "cell_type": "markdown",
   "id": "bdfada6c",
   "metadata": {},
   "source": [
    "We consider the maximum case (or range) to be $a \\rightarrow 500$ and $b \\rightarrow 500$ inorder to test all possible cases for natural numbers. "
   ]
  },
  {
   "cell_type": "markdown",
   "id": "52881374",
   "metadata": {},
   "source": [
    "The code is pretty self explanatory "
   ]
  },
  {
   "cell_type": "code",
   "execution_count": 3,
   "id": "50a189ad",
   "metadata": {},
   "outputs": [
    {
     "name": "stdout",
     "output_type": "stream",
     "text": [
      "200 375 425\n",
      "31875000\n",
      "0.06401276588439941 seconds\n"
     ]
    }
   ],
   "source": [
    "import time\n",
    "start_time = time.time()\n",
    "\n",
    "for a in range(1, 500):\n",
    "    for b in range(a+1, 500):\n",
    "        c = 1000 - b - a\n",
    "        if a**2 + b**2 == c**2:\n",
    "            print(a,b,c)\n",
    "            print(a*b*c)\n",
    "            print(\"%s seconds\" % (time.time() - start_time))"
   ]
  },
  {
   "cell_type": "markdown",
   "id": "96ebbaf9",
   "metadata": {},
   "source": [
    "It should be noted that at my first attempt I used this code"
   ]
  },
  {
   "cell_type": "code",
   "execution_count": 5,
   "id": "5ed947e5",
   "metadata": {},
   "outputs": [
    {
     "name": "stdout",
     "output_type": "stream",
     "text": [
      "200 375 425\n",
      "31875000\n",
      "2.563404083251953 seconds\n"
     ]
    }
   ],
   "source": [
    "import time\n",
    "start_time = time.time()\n",
    "\n",
    "for a in range(1, 500):\n",
    "    for b in range(a, 500):\n",
    "        for c in range(b, 500):\n",
    "            if a+b+c==1000:\n",
    "                if a**2 + b**2 == c**2:\n",
    "                    print(a,b,c)\n",
    "                    print(a*b*c)\n",
    "                    print(\"%s seconds\" % (time.time() - start_time))"
   ]
  },
  {
   "cell_type": "markdown",
   "id": "cefe933d",
   "metadata": {},
   "source": [
    "This is a little slower due to the program also having to check all $c$ values where as the first code block define an equation for $c$, which makes things much quicker."
   ]
  }
 ],
 "metadata": {
  "kernelspec": {
   "display_name": "Python 3 (ipykernel)",
   "language": "python",
   "name": "python3"
  },
  "language_info": {
   "codemirror_mode": {
    "name": "ipython",
    "version": 3
   },
   "file_extension": ".py",
   "mimetype": "text/x-python",
   "name": "python",
   "nbconvert_exporter": "python",
   "pygments_lexer": "ipython3",
   "version": "3.9.12"
  }
 },
 "nbformat": 4,
 "nbformat_minor": 5
}
