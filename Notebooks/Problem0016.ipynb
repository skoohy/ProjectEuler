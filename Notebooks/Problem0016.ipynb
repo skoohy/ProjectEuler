{
 "cells": [
  {
   "cell_type": "markdown",
   "id": "b10000ce",
   "metadata": {},
   "source": [
    "# Problem 16: Power digit sum"
   ]
  },
  {
   "cell_type": "markdown",
   "id": "9a531297",
   "metadata": {},
   "source": [
    "### Description: \n",
    "\n",
    "$2^{15} = 32768$ and the sum of its digits is $3 + 2 + 7 + 6 + 8 = 26$.\n",
    "\n",
    "What is the sum of the digits of the number $2^{1000}$?"
   ]
  },
  {
   "cell_type": "markdown",
   "id": "8500e020",
   "metadata": {},
   "source": [
    "This is a very straight forward question. As seen in previous problems, we can write the digits of a number using the following code (using $304$ as an example)."
   ]
  },
  {
   "cell_type": "code",
   "execution_count": null,
   "id": "7866dc0c",
   "metadata": {},
   "outputs": [],
   "source": [
    "x = [int(a) for a in str(304)]\n",
    "print(x)"
   ]
  },
  {
   "cell_type": "markdown",
   "id": "ba98ecd5",
   "metadata": {},
   "source": [
    "Now for $2^{1000}$."
   ]
  },
  {
   "cell_type": "code",
   "execution_count": null,
   "id": "82aa7cf5",
   "metadata": {},
   "outputs": [],
   "source": [
    "y = [int(a) for a in str(2**1000)]\n",
    "print(y)"
   ]
  },
  {
   "cell_type": "markdown",
   "id": "2658e6e6",
   "metadata": {},
   "source": [
    "We want the sum of this list, we can combine everything into a single line of code (excluding the time calculations)."
   ]
  },
  {
   "cell_type": "code",
   "execution_count": null,
   "id": "97ad738b",
   "metadata": {},
   "outputs": [],
   "source": [
    "import time\n",
    "start_time = time.time()\n",
    "\n",
    "print(sum([int(a) for a in str(2**1000)]))\n",
    "\n",
    "end_time = time.time()\n",
    "print(f'Program Execution Time: {end_time-start_time} seconds')"
   ]
  }
 ],
 "metadata": {
  "kernelspec": {
   "display_name": "Python 3 (ipykernel)",
   "language": "python",
   "name": "python3"
  },
  "language_info": {
   "codemirror_mode": {
    "name": "ipython",
    "version": 3
   },
   "file_extension": ".py",
   "mimetype": "text/x-python",
   "name": "python",
   "nbconvert_exporter": "python",
   "pygments_lexer": "ipython3",
   "version": "3.9.12"
  }
 },
 "nbformat": 4,
 "nbformat_minor": 5
}
