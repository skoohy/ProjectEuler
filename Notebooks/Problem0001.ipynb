{
 "cells": [
  {
   "cell_type": "markdown",
   "id": "dc9360cd",
   "metadata": {},
   "source": [
    "# Problem 1: Multiples of 3 or 5\n",
    "\n",
    "### Description: If we list all the natural numbers below 10 that are multiples of 3 or 5, we get 3, 5, 6 and 9. The sum of these multiples is 23. Find the sum of all the multiples of 3 or 5 below 1000."
   ]
  },
  {
   "cell_type": "markdown",
   "id": "519ff9eb",
   "metadata": {},
   "source": [
    "Starting with the base case, we list all the natural numbers below $10$ that are multiples of $3$, then those that are multiples of $5$. "
   ]
  },
  {
   "cell_type": "code",
   "execution_count": null,
   "id": "a30049d6",
   "metadata": {},
   "outputs": [],
   "source": [
    "threes = list(range(3, 10, 3))\n",
    "print(threes)\n",
    "\n",
    "fives = list(range(5, 10, 5))\n",
    "print(fives)"
   ]
  },
  {
   "cell_type": "markdown",
   "id": "8656c729",
   "metadata": {},
   "source": [
    "Lets union these lists together to complete the base case list of $[3, 5, 6, 9]$."
   ]
  },
  {
   "cell_type": "code",
   "execution_count": null,
   "id": "ea0a72a7",
   "metadata": {},
   "outputs": [],
   "source": [
    "union = threes + fives \n",
    "union.sort()\n",
    "print(union)"
   ]
  },
  {
   "cell_type": "markdown",
   "id": "ae95d708",
   "metadata": {},
   "source": [
    "This gives us a good method for finding the solution to the base case. However, when expanding to larger intervals, there is the possibility that multiples may be repeated."
   ]
  },
  {
   "cell_type": "code",
   "execution_count": null,
   "id": "3e37c381",
   "metadata": {},
   "outputs": [],
   "source": [
    "threes = list(range(3, 20, 3))\n",
    "print(threes)\n",
    "\n",
    "fives  = list(range(5, 20, 5))\n",
    "print(fives)"
   ]
  },
  {
   "cell_type": "markdown",
   "id": "a8a18815",
   "metadata": {},
   "source": [
    "As we can see there is a $15$ repeated in both lists. Since  $3 \\times 5 = 15$, all the repeated multiples will be some multiple of $15$. The goal of this problem is to find the sum of all the multiples of $3$ or $5$ below $1000$. For the multiples of $3$ there will be elements that are multiples of $15$, and same with the multiples of $5$. We want to keep one of the sets of $15$'s and subtract the other out."
   ]
  },
  {
   "cell_type": "markdown",
   "id": "c4b7f5cd",
   "metadata": {},
   "source": [
    "We create a function that takes in our ending point, $N$ ($N=1000$ for this problem), find the sum of the lists for the multiples of the $3$'s, $5$'s and $15$'s, add the sums from the $3$'s and $5$'s then subtract a one set of $15$'s out."
   ]
  },
  {
   "cell_type": "code",
   "execution_count": null,
   "id": "36c133e9",
   "metadata": {},
   "outputs": [],
   "source": [
    "import time\n",
    "start_time = time.time()\n",
    "\n",
    "\n",
    "def sum_of_multiples(N):\n",
    "    threes   = range(3, N, 3)\n",
    "    fives    = range(5, N, 5)\n",
    "    fifteens = range(15, N, 15)\n",
    "    return sum(threes) + sum(fives) - sum(fifteens)\n",
    "\n",
    "print(sum_of_multiples(1000))\n",
    "\n",
    "\n",
    "end_time = time.time()\n",
    "print(f'Program Execution Time: {end_time-start_time} seconds')"
   ]
  }
 ],
 "metadata": {
  "kernelspec": {
   "display_name": "Python 3 (ipykernel)",
   "language": "python",
   "name": "python3"
  },
  "language_info": {
   "codemirror_mode": {
    "name": "ipython",
    "version": 3
   },
   "file_extension": ".py",
   "mimetype": "text/x-python",
   "name": "python",
   "nbconvert_exporter": "python",
   "pygments_lexer": "ipython3",
   "version": "3.9.12"
  }
 },
 "nbformat": 4,
 "nbformat_minor": 5
}
