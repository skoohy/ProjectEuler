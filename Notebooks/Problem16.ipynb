{
 "cells": [
  {
   "cell_type": "markdown",
   "id": "b10000ce",
   "metadata": {},
   "source": [
    "# Problem: Power digit sum"
   ]
  },
  {
   "cell_type": "markdown",
   "id": "9a531297",
   "metadata": {},
   "source": [
    "### Description: \n",
    "\n",
    "$2^{15} = 32768$ and the sum of its digits is $3 + 2 + 7 + 6 + 8 = 26$.\n",
    "\n",
    "What is the sum of the digits of the number $2^{1000}$?"
   ]
  },
  {
   "cell_type": "markdown",
   "id": "8500e020",
   "metadata": {},
   "source": [
    "This is a very straight forward question with really no tricks. As seen in previous problems we can write the digits of a number using the following code (using $304$ as an example)"
   ]
  },
  {
   "cell_type": "code",
   "execution_count": 3,
   "id": "7866dc0c",
   "metadata": {},
   "outputs": [
    {
     "name": "stdout",
     "output_type": "stream",
     "text": [
      "[3, 0, 4]\n"
     ]
    }
   ],
   "source": [
    "x = [int(a) for a in str(304)]\n",
    "print(x)"
   ]
  },
  {
   "cell_type": "markdown",
   "id": "ba98ecd5",
   "metadata": {},
   "source": [
    "Now for $2^{1000}$"
   ]
  },
  {
   "cell_type": "code",
   "execution_count": 4,
   "id": "82aa7cf5",
   "metadata": {},
   "outputs": [
    {
     "name": "stdout",
     "output_type": "stream",
     "text": [
      "[1, 0, 7, 1, 5, 0, 8, 6, 0, 7, 1, 8, 6, 2, 6, 7, 3, 2, 0, 9, 4, 8, 4, 2, 5, 0, 4, 9, 0, 6, 0, 0, 0, 1, 8, 1, 0, 5, 6, 1, 4, 0, 4, 8, 1, 1, 7, 0, 5, 5, 3, 3, 6, 0, 7, 4, 4, 3, 7, 5, 0, 3, 8, 8, 3, 7, 0, 3, 5, 1, 0, 5, 1, 1, 2, 4, 9, 3, 6, 1, 2, 2, 4, 9, 3, 1, 9, 8, 3, 7, 8, 8, 1, 5, 6, 9, 5, 8, 5, 8, 1, 2, 7, 5, 9, 4, 6, 7, 2, 9, 1, 7, 5, 5, 3, 1, 4, 6, 8, 2, 5, 1, 8, 7, 1, 4, 5, 2, 8, 5, 6, 9, 2, 3, 1, 4, 0, 4, 3, 5, 9, 8, 4, 5, 7, 7, 5, 7, 4, 6, 9, 8, 5, 7, 4, 8, 0, 3, 9, 3, 4, 5, 6, 7, 7, 7, 4, 8, 2, 4, 2, 3, 0, 9, 8, 5, 4, 2, 1, 0, 7, 4, 6, 0, 5, 0, 6, 2, 3, 7, 1, 1, 4, 1, 8, 7, 7, 9, 5, 4, 1, 8, 2, 1, 5, 3, 0, 4, 6, 4, 7, 4, 9, 8, 3, 5, 8, 1, 9, 4, 1, 2, 6, 7, 3, 9, 8, 7, 6, 7, 5, 5, 9, 1, 6, 5, 5, 4, 3, 9, 4, 6, 0, 7, 7, 0, 6, 2, 9, 1, 4, 5, 7, 1, 1, 9, 6, 4, 7, 7, 6, 8, 6, 5, 4, 2, 1, 6, 7, 6, 6, 0, 4, 2, 9, 8, 3, 1, 6, 5, 2, 6, 2, 4, 3, 8, 6, 8, 3, 7, 2, 0, 5, 6, 6, 8, 0, 6, 9, 3, 7, 6]\n"
     ]
    }
   ],
   "source": [
    "y = [int(a) for a in str(2**1000)]\n",
    "print(y)"
   ]
  },
  {
   "cell_type": "markdown",
   "id": "2658e6e6",
   "metadata": {},
   "source": [
    "We want the sum of this list, we can combine everything into a single line of code (excluding time calculation)"
   ]
  },
  {
   "cell_type": "code",
   "execution_count": 7,
   "id": "97ad738b",
   "metadata": {},
   "outputs": [
    {
     "name": "stdout",
     "output_type": "stream",
     "text": [
      "1366\n",
      "0.0 seconds\n"
     ]
    }
   ],
   "source": [
    "import time\n",
    "start_time = time.time()\n",
    "\n",
    "print(sum([int(a) for a in str(2**1000)]))\n",
    "\n",
    "print(\"%s seconds\" % (time.time() - start_time))"
   ]
  }
 ],
 "metadata": {
  "kernelspec": {
   "display_name": "Python 3 (ipykernel)",
   "language": "python",
   "name": "python3"
  },
  "language_info": {
   "codemirror_mode": {
    "name": "ipython",
    "version": 3
   },
   "file_extension": ".py",
   "mimetype": "text/x-python",
   "name": "python",
   "nbconvert_exporter": "python",
   "pygments_lexer": "ipython3",
   "version": "3.9.12"
  }
 },
 "nbformat": 4,
 "nbformat_minor": 5
}
