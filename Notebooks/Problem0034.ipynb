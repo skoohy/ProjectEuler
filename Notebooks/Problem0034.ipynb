{
 "cells": [
  {
   "cell_type": "markdown",
   "id": "d0e03936",
   "metadata": {},
   "source": [
    "# Problem 34: Digit factorials"
   ]
  },
  {
   "cell_type": "markdown",
   "id": "89d18934",
   "metadata": {},
   "source": [
    "### Description: \n",
    "\n",
    "$145$ is a curious number, as $1! + 4! + 5! = 1 + 24 + 120 = 145$.\n",
    "\n",
    "Find the sum of all numbers which are equal to the sum of the factorial of their digits.\n",
    "\n",
    "Note: As $1! = 1$ and $2! = 2$ are not sums they are not included."
   ]
  },
  {
   "cell_type": "markdown",
   "id": "bc2f6fee",
   "metadata": {},
   "source": [
    "We'll begin by creating a factorial function."
   ]
  },
  {
   "cell_type": "code",
   "execution_count": null,
   "id": "24e812ff",
   "metadata": {},
   "outputs": [],
   "source": [
    "def fac(n):\n",
    "    x = 1\n",
    "    for ni in range(1, n+1):\n",
    "        x = x * ni\n",
    "    return x"
   ]
  },
  {
   "cell_type": "markdown",
   "id": "2ee6f1ae",
   "metadata": {},
   "source": [
    "Testing our function"
   ]
  },
  {
   "cell_type": "code",
   "execution_count": null,
   "id": "9f65265c",
   "metadata": {},
   "outputs": [],
   "source": [
    "for n in range(6):\n",
    "    print(f'{n} factorial is {fac(n)}')"
   ]
  },
  {
   "cell_type": "markdown",
   "id": "3a6267b1",
   "metadata": {},
   "source": [
    "Next we want to make a list that will contain all the digits of a number. With this list we will want take the factorial of each digits and sum them up, we will do this for the number $547927$ as an example."
   ]
  },
  {
   "cell_type": "code",
   "execution_count": null,
   "id": "787e20cd",
   "metadata": {},
   "outputs": [],
   "source": [
    "n = 547927\n",
    "digits = [int(a) for a in str(n)]\n",
    "digits"
   ]
  },
  {
   "cell_type": "markdown",
   "id": "cc97d26a",
   "metadata": {},
   "source": [
    "Now we apply the factorial and sum function."
   ]
  },
  {
   "cell_type": "code",
   "execution_count": null,
   "id": "bc4be9b0",
   "metadata": {},
   "outputs": [],
   "source": [
    "ex = sum([fac(int(a)) for a in str(n)])\n",
    "ex"
   ]
  },
  {
   "cell_type": "markdown",
   "id": "03d7a347",
   "metadata": {},
   "source": [
    "We can now proceed to complete the problem. We need to make sure that $1! = 1$ and $2! = 2$ are not included. And our condition for this problem is that we want the sum of the digits of $n$ to be equal to $n$. There needs to be some range we need to look at, we will assume the upper limit to be $100000$."
   ]
  },
  {
   "cell_type": "code",
   "execution_count": null,
   "id": "dedffe9e",
   "metadata": {},
   "outputs": [],
   "source": [
    "import time\n",
    "t1 = time.time()\n",
    "\n",
    "\n",
    "answer = 0\n",
    "for n in range(1, 100000):\n",
    "    if n != 1:\n",
    "        if n != 2:\n",
    "            if sum([fac(int(a)) for a in str(n)]) == n:\n",
    "                answer += sum([fac(int(a)) for a in str(n)])\n",
    "print(answer)\n",
    "\n",
    "\n",
    "t2 = time.time()\n",
    "print(f'Program Execution Time: {t2-t1} seconds')"
   ]
  },
  {
   "cell_type": "markdown",
   "id": "98751a95",
   "metadata": {},
   "source": [
    "A more practical approach to the upper hound can be found here:\n",
    "https://www.xarg.org/puzzle/project-euler/problem-34/ "
   ]
  }
 ],
 "metadata": {
  "kernelspec": {
   "display_name": "Python 3 (ipykernel)",
   "language": "python",
   "name": "python3"
  },
  "language_info": {
   "codemirror_mode": {
    "name": "ipython",
    "version": 3
   },
   "file_extension": ".py",
   "mimetype": "text/x-python",
   "name": "python",
   "nbconvert_exporter": "python",
   "pygments_lexer": "ipython3",
   "version": "3.9.12"
  }
 },
 "nbformat": 4,
 "nbformat_minor": 5
}
