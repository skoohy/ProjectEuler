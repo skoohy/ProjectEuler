{
 "cells": [
  {
   "cell_type": "markdown",
   "id": "7705fc6b",
   "metadata": {},
   "source": [
    "# Problem 9: Special Pythagorean triplet"
   ]
  },
  {
   "cell_type": "markdown",
   "id": "7b5a2540",
   "metadata": {},
   "source": [
    "### Description:\n",
    "\n",
    "A Pythagorean triplet is a set of three natural numbers, $a < b < c$, for which,\n",
    "\n",
    "$$a^2 + b^2 = c^2$$\n",
    "For example, $3^2 + 4^2 = 9 + 16 = 25 = 5^2$.\n",
    "\n",
    "There exists exactly one Pythagorean triplet for which $a + b + c = 1000$.\n",
    "Find the product $abc$."
   ]
  },
  {
   "cell_type": "markdown",
   "id": "bc89e93b",
   "metadata": {},
   "source": [
    "We can create two for loops, the first one for $a$ from $1$ to $500$. Since $a<b$ we can start our second second for $b$ from $a+1$ to $500$. We next let $c = 1000 - b - a$. This gives us $a$, $b$ and $c$, we now need to confirm if they are Pythagorean triplets then print $abc$."
   ]
  },
  {
   "cell_type": "code",
   "execution_count": null,
   "id": "a8e06b80",
   "metadata": {},
   "outputs": [],
   "source": [
    "import time\n",
    "t1 = time.time()\n",
    "\n",
    "for a in range(1, 500):\n",
    "    for b in range(a+1, 500):\n",
    "        c = 1000 - b - a\n",
    "        if a**2 + b**2 == c**2:\n",
    "            print(a*b*c)\n",
    "            print(f'Program Execution Time: {time.time()-t1} seconds')"
   ]
  }
 ],
 "metadata": {
  "kernelspec": {
   "display_name": "Python 3 (ipykernel)",
   "language": "python",
   "name": "python3"
  },
  "language_info": {
   "codemirror_mode": {
    "name": "ipython",
    "version": 3
   },
   "file_extension": ".py",
   "mimetype": "text/x-python",
   "name": "python",
   "nbconvert_exporter": "python",
   "pygments_lexer": "ipython3",
   "version": "3.9.12"
  }
 },
 "nbformat": 4,
 "nbformat_minor": 5
}
