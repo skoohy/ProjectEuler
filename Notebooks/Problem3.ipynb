{
 "cells": [
  {
   "cell_type": "markdown",
   "id": "e132ef27",
   "metadata": {},
   "source": [
    "# Project Euler Problem 3: Largest prime factor"
   ]
  },
  {
   "cell_type": "markdown",
   "id": "5376811d",
   "metadata": {},
   "source": [
    "### Description: \n",
    "The prime factors of 13195 are 5, 7, 13 and 29.\n",
    "\n",
    "What is the largest prime factor of the number 600851475143 ?"
   ]
  },
  {
   "cell_type": "markdown",
   "id": "318ef198",
   "metadata": {},
   "source": [
    "As good idea with Project Euler questions is to prove/work-out the base case given. That is \"The prime factors of 13195 are 5, 7, 13 and 29\"."
   ]
  },
  {
   "cell_type": "markdown",
   "id": "f30c88c6",
   "metadata": {},
   "source": [
    "Lets create a list of factors for 13195"
   ]
  },
  {
   "cell_type": "code",
   "execution_count": 5,
   "id": "7213b22a",
   "metadata": {},
   "outputs": [],
   "source": [
    "n = 13195\n",
    "factors = []"
   ]
  },
  {
   "cell_type": "markdown",
   "id": "64ce42b6",
   "metadata": {},
   "source": [
    "We define \"c\" to be a prime factor if the remainder from n / c is zero. We use the operator \"%\" to find the remainder between n and c. To be a prime factor c <= n. Lets find all the prime factors of 13195"
   ]
  },
  {
   "cell_type": "code",
   "execution_count": 11,
   "id": "4a134683",
   "metadata": {},
   "outputs": [
    {
     "data": {
      "text/plain": [
       "[5, 7, 13, 29]"
      ]
     },
     "execution_count": 11,
     "metadata": {},
     "output_type": "execute_result"
    }
   ],
   "source": [
    "c = 1\n",
    "while n > 1:\n",
    "    if n % c == 0:\n",
    "        factors.append(c)\n",
    "        n = n / c # The while loop will stop when n/c < 1 meaning there are no possible prime factors left to be found\n",
    "    else:\n",
    "        c = c + 1\n",
    "factors"
   ]
  },
  {
   "cell_type": "markdown",
   "id": "3c71763b",
   "metadata": {},
   "source": [
    "We can easily make tis into a function for n = 600851475143 and then find the max of the list"
   ]
  },
  {
   "cell_type": "code",
   "execution_count": 12,
   "id": "40b126d5",
   "metadata": {},
   "outputs": [
    {
     "name": "stdout",
     "output_type": "stream",
     "text": [
      "6857\n",
      "0.0010006427764892578 seconds\n"
     ]
    }
   ],
   "source": [
    "import time\n",
    "start_time = time.time()\n",
    "\n",
    "def prime_factorization(n):\n",
    "    factors = []\n",
    "    c = 2\n",
    "    while n > 1:\n",
    "        if n % c == 0:\n",
    "            factors.append(c)\n",
    "            n = n / c\n",
    "        else:\n",
    "            c = c + 1\n",
    "    return factors\n",
    "\n",
    "n = 600851475143 \n",
    "\n",
    "print(max(prime_factorization(n)))\n",
    "print(\"%s seconds\" % (time.time() - start_time))"
   ]
  }
 ],
 "metadata": {
  "kernelspec": {
   "display_name": "Python 3 (ipykernel)",
   "language": "python",
   "name": "python3"
  },
  "language_info": {
   "codemirror_mode": {
    "name": "ipython",
    "version": 3
   },
   "file_extension": ".py",
   "mimetype": "text/x-python",
   "name": "python",
   "nbconvert_exporter": "python",
   "pygments_lexer": "ipython3",
   "version": "3.9.12"
  }
 },
 "nbformat": 4,
 "nbformat_minor": 5
}
