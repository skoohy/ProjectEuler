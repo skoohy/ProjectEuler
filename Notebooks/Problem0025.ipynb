{
 "cells": [
  {
   "cell_type": "markdown",
   "id": "e96b3482",
   "metadata": {},
   "source": [
    "# Problem 25: 1000-digit Fibonacci number "
   ]
  },
  {
   "cell_type": "markdown",
   "id": "ccca5743",
   "metadata": {},
   "source": [
    "### Description:\n",
    "\n",
    "The Fibonacci sequence is defined by the recurrence relation:\n",
    "\n",
    "$F_n = F_{n−1} + F_{n−2}$, where $F_1 = 1$ and $F_2 = 1$.\n",
    "Hence the first $12$ terms will be:\n",
    "\n",
    "$$F_1 = 1$$\n",
    "$$F_2 = 1$$\n",
    "$$F_3 = 2$$\n",
    "$$F_4 = 3$$\n",
    "$$F_5 = 5$$\n",
    "$$F_6 = 8$$\n",
    "$$F_7 = 13$$\n",
    "$$F_8 = 21$$\n",
    "$$F_9 = 34$$\n",
    "$$F_{10} = 55$$\n",
    "$$F_{11} = 89$$\n",
    "$$F_{12} = 144$$\n",
    "The $12$th term, $F_{12}$, is the first term to contain three digits.\n",
    "\n",
    "What is the index of the first term in the Fibonacci sequence to contain $1000$ digits?"
   ]
  },
  {
   "cell_type": "markdown",
   "id": "ad88ce31",
   "metadata": {},
   "source": [
    "As seen in problem $2$, we can find the $N$-th fibonacci number using the following function."
   ]
  },
  {
   "cell_type": "code",
   "execution_count": null,
   "id": "37351ab9",
   "metadata": {},
   "outputs": [],
   "source": [
    "def fibonacci(N):\n",
    "    \"\"\"Returns the Nth Fibonacci Number\"\"\"\n",
    "    F = [0, 1] # Inital Fibonacci Numbers\n",
    "    i = 0\n",
    "    while i <= N-2:\n",
    "        F_new = F[i] + F[i+1]\n",
    "        F.append(F_new)\n",
    "        i += 1\n",
    "    return F[N]\n",
    "\n",
    "# Let chekc by finding the 12-th fibonacci number (should be 144)\n",
    "\n",
    "print(f'The 12-th fibonacci number is {fibonacci(12)}')"
   ]
  },
  {
   "cell_type": "code",
   "execution_count": null,
   "id": "da8616f9",
   "metadata": {},
   "outputs": [],
   "source": [
    "import time\n",
    "start_time = time.time()\n",
    "\n",
    "\n",
    "def fibonacci(N):\n",
    "    \"\"\"Returns the Nth Fibonacci Number\"\"\"\n",
    "    F = [0, 1] # Inital Fibonacci Numbers\n",
    "    i = 0\n",
    "    while i <= N-2:\n",
    "        F_new = F[i] + F[i+1]\n",
    "        F.append(F_new)\n",
    "        i += 1\n",
    "    return F[N]\n",
    "\n",
    "N = 0 # Starting with the '0'-th fibonacci number\n",
    "x = 1000 # We want the first fibonacci number that has 1000 digits\n",
    "\n",
    "while len(str(fibonacci(N))) <= x: # Run loop until a fibonacci number is found with 1000 digits\n",
    "    if len(str(fibonacci(N))) == x:\n",
    "        print(N)\n",
    "        break     \n",
    "    N = N + 1\n",
    "\n",
    "    \n",
    "end_time = time.time()\n",
    "print(f'Program Execution Time: {end_time-start_time} seconds')"
   ]
  }
 ],
 "metadata": {
  "kernelspec": {
   "display_name": "Python 3 (ipykernel)",
   "language": "python",
   "name": "python3"
  },
  "language_info": {
   "codemirror_mode": {
    "name": "ipython",
    "version": 3
   },
   "file_extension": ".py",
   "mimetype": "text/x-python",
   "name": "python",
   "nbconvert_exporter": "python",
   "pygments_lexer": "ipython3",
   "version": "3.9.12"
  }
 },
 "nbformat": 4,
 "nbformat_minor": 5
}
