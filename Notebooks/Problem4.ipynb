{
 "cells": [
  {
   "cell_type": "markdown",
   "id": "58109241",
   "metadata": {},
   "source": [
    "# Projet Euler Problem 4: Largest palindrome product"
   ]
  },
  {
   "cell_type": "markdown",
   "id": "cbbc99c2",
   "metadata": {},
   "source": [
    "### Description: \n",
    "A palindromic number reads the same both ways. The largest palindrome made from the product of two 2-digit numbers is 9009 = 91 × 99.\n",
    "\n",
    "Find the largest palindrome made from the product of two 3-digit numbers."
   ]
  },
  {
   "cell_type": "markdown",
   "id": "cbe879eb",
   "metadata": {},
   "source": [
    "Consider the number 8762, lets write this backwards"
   ]
  },
  {
   "cell_type": "code",
   "execution_count": 1,
   "id": "6922e6b8",
   "metadata": {},
   "outputs": [
    {
     "name": "stdout",
     "output_type": "stream",
     "text": [
      "8762\n"
     ]
    }
   ],
   "source": [
    "num = 8762\n",
    "# Lets make this in a string so we can manipulate it more efficiently\n",
    "num = str(num)\n",
    "print(num)"
   ]
  },
  {
   "cell_type": "markdown",
   "id": "d09f9074",
   "metadata": {},
   "source": [
    "Lets do some list splitting"
   ]
  },
  {
   "cell_type": "code",
   "execution_count": 18,
   "id": "89bf3b49",
   "metadata": {},
   "outputs": [
    {
     "name": "stdout",
     "output_type": "stream",
     "text": [
      "8762\n"
     ]
    }
   ],
   "source": [
    "# num[start : stop : step]\n",
    "print(num[0] + num[1] + num[2] + num[3])"
   ]
  },
  {
   "cell_type": "code",
   "execution_count": 17,
   "id": "06c7defa",
   "metadata": {},
   "outputs": [
    {
     "name": "stdout",
     "output_type": "stream",
     "text": [
      "8762\n"
     ]
    }
   ],
   "source": [
    "print(num[::1])"
   ]
  },
  {
   "cell_type": "markdown",
   "id": "80395c99",
   "metadata": {},
   "source": [
    "This prints the number from the beginning to the end, lets do the opposite"
   ]
  },
  {
   "cell_type": "code",
   "execution_count": 19,
   "id": "d89c5b3d",
   "metadata": {},
   "outputs": [
    {
     "name": "stdout",
     "output_type": "stream",
     "text": [
      "2678\n"
     ]
    }
   ],
   "source": [
    "print(num[::-1])"
   ]
  },
  {
   "cell_type": "markdown",
   "id": "b95d2581",
   "metadata": {},
   "source": [
    "Remember that we did this by making our number a string, lets now make it an integer"
   ]
  },
  {
   "cell_type": "code",
   "execution_count": 21,
   "id": "4d21289c",
   "metadata": {},
   "outputs": [
    {
     "name": "stdout",
     "output_type": "stream",
     "text": [
      "8762 reversed is 2678 with type: <class 'int'>\n"
     ]
    }
   ],
   "source": [
    "num = 8762\n",
    "num = str(8762)\n",
    "reversed_num = num[::-1]\n",
    "reversed_num = int(reversed_num)\n",
    "print(f'{num} reversed is {reversed_num} with type: {type(reversed_num)}')"
   ]
  },
  {
   "cell_type": "markdown",
   "id": "452031e0",
   "metadata": {},
   "source": [
    "Lets work out the base case, \"The largest palindrome made from the product of two 2-digit numbers is 9009 = 91 × 99\". We create an empty list for our pairs and set the current max palindrome as 0:"
   ]
  },
  {
   "cell_type": "code",
   "execution_count": 24,
   "id": "6a1c9e65",
   "metadata": {},
   "outputs": [],
   "source": [
    "x_y = [] \n",
    "max_palindrome = 0"
   ]
  },
  {
   "cell_type": "markdown",
   "id": "d3acc24b",
   "metadata": {},
   "source": [
    "Next we iterate through all pairs of 2-digit number, multiply the pair, check to see if that result is a palidrome and then save it as our largest palidrome:"
   ]
  },
  {
   "cell_type": "code",
   "execution_count": 27,
   "id": "76a6693c",
   "metadata": {},
   "outputs": [
    {
     "name": "stdout",
     "output_type": "stream",
     "text": [
      "Largest palidrome 9009 found by multiplying [91, 99]\n",
      "0.005001068115234375 seconds\n"
     ]
    }
   ],
   "source": [
    "import time\n",
    "start_time = time.time()\n",
    "\n",
    "for x in range(10, 100):\n",
    "    for y in range(10, 100):\n",
    "        number = x*y\n",
    "        \n",
    "        reversed_number = str(number)[::-1]\n",
    "        reversed_number = int(reversed_number)\n",
    "        \n",
    "        if number == reversed_number and number > max_palindrome:\n",
    "                max_palindrome = number\n",
    "                x_y.append([x, y])\n",
    "                \n",
    "print(f'Largest palidrome {max_palindrome} found by multiplying {x_y[-1]}')\n",
    "print(\"%s seconds\" % (time.time() - start_time))"
   ]
  },
  {
   "cell_type": "markdown",
   "id": "95115103",
   "metadata": {},
   "source": [
    "Lets now change to code to work for 3-digit numbers, all we have to do is change the range for x and y:"
   ]
  },
  {
   "cell_type": "code",
   "execution_count": 36,
   "id": "d0821963",
   "metadata": {},
   "outputs": [
    {
     "name": "stdout",
     "output_type": "stream",
     "text": [
      "Largest palidrome 906609 found by multiplying [913, 993]\n",
      "0.6361496448516846 seconds\n"
     ]
    }
   ],
   "source": [
    "import time\n",
    "start_time = time.time()\n",
    "\n",
    "x_y = [] \n",
    "max_palindrome = 0\n",
    "\n",
    "for x in range(10, 1000):\n",
    "    for y in range(10, 1000):\n",
    "        number = x*y\n",
    "        \n",
    "        reversed_number = str(number)[::-1]\n",
    "        reversed_number = int(reversed_number)\n",
    "        \n",
    "        if number == reversed_number and number > max_palindrome:\n",
    "                max_palindrome = number\n",
    "                x_y.append([x, y])\n",
    "                \n",
    "print(f'Largest palidrome {max_palindrome} found by multiplying {x_y[-1]}')\n",
    "print(\"%s seconds\" % (time.time() - start_time))"
   ]
  }
 ],
 "metadata": {
  "kernelspec": {
   "display_name": "Python 3 (ipykernel)",
   "language": "python",
   "name": "python3"
  },
  "language_info": {
   "codemirror_mode": {
    "name": "ipython",
    "version": 3
   },
   "file_extension": ".py",
   "mimetype": "text/x-python",
   "name": "python",
   "nbconvert_exporter": "python",
   "pygments_lexer": "ipython3",
   "version": "3.9.12"
  }
 },
 "nbformat": 4,
 "nbformat_minor": 5
}
