{
 "cells": [
  {
   "cell_type": "markdown",
   "id": "58109241",
   "metadata": {},
   "source": [
    "# Projet Euler Problem 4: Largest palindrome product"
   ]
  },
  {
   "cell_type": "markdown",
   "id": "cbbc99c2",
   "metadata": {},
   "source": [
    "### Description: \n",
    "A palindromic number reads the same both ways. The largest palindrome made from the product of two $2$-digit numbers is $9009 = 91 × 99$.\n",
    "\n",
    "Find the largest palindrome made from the product of two $3$-digit numbers."
   ]
  },
  {
   "cell_type": "markdown",
   "id": "cbe879eb",
   "metadata": {},
   "source": [
    "Let's consider the number $8762$, we can write this number backwards by doing the following."
   ]
  },
  {
   "cell_type": "code",
   "execution_count": null,
   "id": "6922e6b8",
   "metadata": {},
   "outputs": [],
   "source": [
    "num = 8762\n",
    "# Lets make this in a string so we can manipulate it more efficiently\n",
    "num = str(num)\n",
    "print(num)"
   ]
  },
  {
   "cell_type": "markdown",
   "id": "d09f9074",
   "metadata": {},
   "source": [
    "Let's now do some list slicing."
   ]
  },
  {
   "cell_type": "code",
   "execution_count": null,
   "id": "89bf3b49",
   "metadata": {},
   "outputs": [],
   "source": [
    "# Python List Slicing: num[start : stop : step]\n",
    "\n",
    "print(num[0] + num[1] + num[2] + num[3])\n",
    "print(num[0:4])\n",
    "print(num[::1])"
   ]
  },
  {
   "cell_type": "markdown",
   "id": "80395c99",
   "metadata": {},
   "source": [
    "Our last print statement prints the number from the beginning to the end, lets do the opposite."
   ]
  },
  {
   "cell_type": "code",
   "execution_count": null,
   "id": "d89c5b3d",
   "metadata": {},
   "outputs": [],
   "source": [
    "print(num[::-1])"
   ]
  },
  {
   "cell_type": "markdown",
   "id": "b95d2581",
   "metadata": {},
   "source": [
    "Remember that we did this by making our number a string, lets now make it an integer, starting from the beginning."
   ]
  },
  {
   "cell_type": "code",
   "execution_count": null,
   "id": "4d21289c",
   "metadata": {},
   "outputs": [],
   "source": [
    "num = 8762\n",
    "num = str(8762)\n",
    "reversed_num = num[::-1]\n",
    "reversed_num = int(reversed_num)\n",
    "print(f'{num} reversed is {reversed_num} with type: {type(reversed_num)}')"
   ]
  },
  {
   "cell_type": "markdown",
   "id": "452031e0",
   "metadata": {},
   "source": [
    "Lets work out the base case, \"the largest palindrome made from the product of two $2$-digit numbers is $9009 = 91 × 99$\". We create an empty list for our pairs and set the current max palindrome as $0$."
   ]
  },
  {
   "cell_type": "code",
   "execution_count": null,
   "id": "6a1c9e65",
   "metadata": {},
   "outputs": [],
   "source": [
    "x_y = [] # Pair of numbers that give a palindrome\n",
    "max_palindrome = 0"
   ]
  },
  {
   "cell_type": "markdown",
   "id": "d3acc24b",
   "metadata": {},
   "source": [
    "Next we iterate through all pairs of $2$-digit number, multiply the pair, check to see if that result is a palindrome and then save it as our largest palidrome."
   ]
  },
  {
   "cell_type": "code",
   "execution_count": null,
   "id": "76a6693c",
   "metadata": {},
   "outputs": [],
   "source": [
    "import time\n",
    "start_time = time.time()\n",
    "\n",
    "\n",
    "for x in range(10, 100): # 2-digits numbers\n",
    "    for y in range(10, 100): # 2-digit numbers\n",
    "        number = x*y\n",
    "        \n",
    "        reversed_number = str(number)[::-1]\n",
    "        reversed_number = int(reversed_number)\n",
    "        \n",
    "        if number == reversed_number and number > max_palindrome:\n",
    "                max_palindrome = number\n",
    "                x_y.append([x, y])\n",
    "              \n",
    "print(f'Largest palidrome {max_palindrome} found by multiplying {x_y[-1]}')\n",
    "\n",
    "            \n",
    "end_time = time.time()\n",
    "print(f'Program Execution Time: {end_time-start_time} seconds')"
   ]
  },
  {
   "cell_type": "markdown",
   "id": "95115103",
   "metadata": {},
   "source": [
    "Lets now change the code to work for $3$-digit numbers, all we have to do is change the range for $x$ and $y$."
   ]
  },
  {
   "cell_type": "code",
   "execution_count": null,
   "id": "d0821963",
   "metadata": {},
   "outputs": [],
   "source": [
    "import time\n",
    "start_time = time.time()\n",
    "\n",
    "\n",
    "x_y = [] \n",
    "max_palindrome = 0\n",
    "\n",
    "for x in range(10, 1000):\n",
    "    for y in range(10, 1000):\n",
    "        number = x*y\n",
    "        \n",
    "        reversed_number = str(number)[::-1]\n",
    "        reversed_number = int(reversed_number)\n",
    "        \n",
    "        if number == reversed_number and number > max_palindrome:\n",
    "                max_palindrome = number\n",
    "                x_y.append([x, y])\n",
    "                \n",
    "print(f'Largest palidrome {max_palindrome} found by multiplying {x_y[-1]}')\n",
    "\n",
    "\n",
    "end_time = time.time()\n",
    "print(f'Program Execution Time: {end_time-start_time} seconds')"
   ]
  }
 ],
 "metadata": {
  "kernelspec": {
   "display_name": "Python 3 (ipykernel)",
   "language": "python",
   "name": "python3"
  },
  "language_info": {
   "codemirror_mode": {
    "name": "ipython",
    "version": 3
   },
   "file_extension": ".py",
   "mimetype": "text/x-python",
   "name": "python",
   "nbconvert_exporter": "python",
   "pygments_lexer": "ipython3",
   "version": "3.9.12"
  }
 },
 "nbformat": 4,
 "nbformat_minor": 5
}
