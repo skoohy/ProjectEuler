{
 "cells": [
  {
   "cell_type": "markdown",
   "id": "21212f89",
   "metadata": {},
   "source": [
    "# Problem 92: Square digit chains"
   ]
  },
  {
   "cell_type": "markdown",
   "id": "6a7178e8",
   "metadata": {},
   "source": [
    "### Description: \n",
    "\n",
    "A number chain is created by continuously adding the square of the digits in a number to form a new number until it has been seen before.\n",
    "\n",
    "For example,\n",
    "\n",
    "$$ 44 → 32 → 13 → 10 → 1 → 1 $$\n",
    "$$ 85 → 89 → 145 → 42 → 20 → 4 → 16 → 37 → 58 → 89 $$\n",
    "\n",
    "Therefore any chain that arrives at $1$ or $89$ will become stuck in an endless loop. What is most amazing is that EVERY starting number will eventually arrive at $1$ or $89$.\n",
    "\n",
    "How many starting numbers below ten million will arrive at $89$?"
   ]
  },
  {
   "cell_type": "markdown",
   "id": "d067c672",
   "metadata": {},
   "source": [
    "Let's start with $44$ and show how we can arrive to $1$."
   ]
  },
  {
   "cell_type": "code",
   "execution_count": null,
   "id": "ce09811a",
   "metadata": {},
   "outputs": [],
   "source": [
    "n = 44\n",
    "square_digits = [int(a)**2 for a in str(n)]\n",
    "sum_digits = sum(square_digits)\n",
    "sum_digits"
   ]
  },
  {
   "cell_type": "markdown",
   "id": "4353a3e4",
   "metadata": {},
   "source": [
    "We can see that doing this once reduced $44$ to $32$, as seen in the description. Lets keep doing this until we reach $1$ or possibly $89$."
   ]
  },
  {
   "cell_type": "code",
   "execution_count": null,
   "id": "91dc6390",
   "metadata": {},
   "outputs": [],
   "source": [
    "n = 44 # Save the starting number\n",
    "current_number = n # number that will be constantly reduce or change\n",
    "while True: # We continue this loop until a 1 or 89 is found\n",
    "    sum_square_digits = sum([int(a)**2 for a in str(current_number)])\n",
    "    \n",
    "    if sum_square_digits == 1:\n",
    "        print(f'{n} arrived at 1.')\n",
    "        break # end loop\n",
    "    elif sum_square_digits == 89:\n",
    "        print(f'{n} arrived at 89.')\n",
    "        break # # end loop\n",
    "    current_number = sum_square_digits"
   ]
  },
  {
   "cell_type": "markdown",
   "id": "fbfab659",
   "metadata": {},
   "source": [
    "As this was just for $44$, we create a for loop from $1$ to ten million using the same format as the code above. The goal of the problem is to count how many numbers arrive at $89$, so we create a counter for this."
   ]
  },
  {
   "cell_type": "code",
   "execution_count": null,
   "id": "99123697",
   "metadata": {},
   "outputs": [],
   "source": [
    "import time\n",
    "t1 = time.time()\n",
    "\n",
    "counter_89 = 0 \n",
    "for num in range(1, int(10e6)+1):\n",
    "    current_number = num\n",
    "    while True:\n",
    "        ss_digits = sum([int(a)**2 for a in str(current_number)]) # sum_square_digits\n",
    "\n",
    "        if ss_digits == 89:\n",
    "            counter_89 += 1\n",
    "            break\n",
    "        elif ss_digits == 1: # We don't need to do anything when we get a 1 other than end the loop and move on\n",
    "            break \n",
    "        current_number = ss_digits\n",
    "        \n",
    "print(counter_89)\n",
    "\n",
    "t2 = time.time()\n",
    "print(f'Program Execution Time: {t2-t1} seconds')"
   ]
  }
 ],
 "metadata": {
  "kernelspec": {
   "display_name": "Python 3 (ipykernel)",
   "language": "python",
   "name": "python3"
  },
  "language_info": {
   "codemirror_mode": {
    "name": "ipython",
    "version": 3
   },
   "file_extension": ".py",
   "mimetype": "text/x-python",
   "name": "python",
   "nbconvert_exporter": "python",
   "pygments_lexer": "ipython3",
   "version": "3.9.12"
  }
 },
 "nbformat": 4,
 "nbformat_minor": 5
}
