{
 "cells": [
  {
   "cell_type": "markdown",
   "id": "09720779",
   "metadata": {},
   "source": [
    "# Problem 20: Factorial digit sum"
   ]
  },
  {
   "cell_type": "markdown",
   "id": "62c4ce73",
   "metadata": {},
   "source": [
    "### Description: \n",
    "\n",
    "$n!$ means $n \\cdot (n − 1) \\cdot ... \\cdot 3 \\cdot 2 \\cdot 1$\n",
    "\n",
    "For example, $10! = 10 \\cdot 9 \\cdot ... \\cdot 3 \\cdot 2 \\cdot 1 = 3628800$,\n",
    "and the sum of the digits in the number $10!$ is $3 + 6 + 2 + 8 + 8 + 0 + 0 = 27$.\n",
    "\n",
    "Find the sum of the digits in the number $100!$"
   ]
  },
  {
   "cell_type": "markdown",
   "id": "a6975ca8",
   "metadata": {},
   "source": [
    "As seen in many other problems, we write the digits of a number by doing the following."
   ]
  },
  {
   "cell_type": "code",
   "execution_count": null,
   "id": "665a94bb",
   "metadata": {},
   "outputs": [],
   "source": [
    "ex = 3628800\n",
    "digits_of_ex = [int(a) for a in str(ex)]\n",
    "\n",
    "print(digits_of_ex)"
   ]
  },
  {
   "cell_type": "markdown",
   "id": "5e2276ab",
   "metadata": {},
   "source": [
    "We can use the factorial function found in either numpy, math,..., or we can create our own factorial function. We will do all 3 of these and compare the reuslts."
   ]
  },
  {
   "cell_type": "markdown",
   "id": "d7a1bed4",
   "metadata": {},
   "source": [
    "Using NumPy."
   ]
  },
  {
   "cell_type": "code",
   "execution_count": null,
   "id": "eaeda3c3",
   "metadata": {},
   "outputs": [],
   "source": [
    "import time\n",
    "import numpy as np\n",
    "start_time = time.time()\n",
    "\n",
    "\n",
    "print(sum([int(a) for a in str(np.math.factorial(100))]))\n",
    "\n",
    "\n",
    "end_time = time.time()\n",
    "print(f'Program Execution Time: {end_time-start_time} seconds')"
   ]
  },
  {
   "cell_type": "markdown",
   "id": "866595a9",
   "metadata": {},
   "source": [
    "Using Math."
   ]
  },
  {
   "cell_type": "code",
   "execution_count": null,
   "id": "ff7b13fa",
   "metadata": {},
   "outputs": [],
   "source": [
    "import time\n",
    "import math as m\n",
    "start_time = time.time()\n",
    "\n",
    "\n",
    "print(sum([int(a) for a in str(m.factorial(100))]))\n",
    "\n",
    "\n",
    "end_time = time.time()\n",
    "print(f'Program Execution Time: {end_time-start_time} seconds')"
   ]
  },
  {
   "cell_type": "markdown",
   "id": "95df45a6",
   "metadata": {},
   "source": [
    "Creating our own factorial function."
   ]
  },
  {
   "cell_type": "code",
   "execution_count": null,
   "id": "498de5a3",
   "metadata": {},
   "outputs": [],
   "source": [
    "import time\n",
    "start_time = time.time()\n",
    "\n",
    "\n",
    "def factorial(n):\n",
    "    \"\"\"Returns the factorial of n, for n >= 0\"\"\"\n",
    "    result = 1\n",
    "    for ni in range(2, n+1):\n",
    "        result = result * ni\n",
    "    return result\n",
    "\n",
    "print(sum([int(a) for a in str(factorial(100))]))\n",
    "\n",
    "\n",
    "end_time = time.time()\n",
    "print(f'Program Execution Time: {end_time-start_time} seconds')"
   ]
  },
  {
   "cell_type": "markdown",
   "id": "eddccd4e",
   "metadata": {},
   "source": [
    "We can see that all methods produce the same result in similar times."
   ]
  }
 ],
 "metadata": {
  "kernelspec": {
   "display_name": "Python 3 (ipykernel)",
   "language": "python",
   "name": "python3"
  },
  "language_info": {
   "codemirror_mode": {
    "name": "ipython",
    "version": 3
   },
   "file_extension": ".py",
   "mimetype": "text/x-python",
   "name": "python",
   "nbconvert_exporter": "python",
   "pygments_lexer": "ipython3",
   "version": "3.9.12"
  }
 },
 "nbformat": 4,
 "nbformat_minor": 5
}
