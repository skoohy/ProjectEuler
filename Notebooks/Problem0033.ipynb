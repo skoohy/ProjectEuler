{
 "cells": [
  {
   "cell_type": "markdown",
   "id": "873d3c4e",
   "metadata": {},
   "source": [
    "# Problem 33: Digit cancelling fractions"
   ]
  },
  {
   "cell_type": "markdown",
   "id": "87baab7f",
   "metadata": {},
   "source": [
    "### Description: \n",
    "\n",
    "The fraction $\\frac{49}{98}$ is a curious fraction, as an inexperienced mathematician in attempting to simplify it may incorrectly believe that $\\frac{49}{98} = \\frac{4}{8}$, which is correct, is obtained by cancelling the $9$s.\n",
    "\n",
    "We shall consider fractions like, $\\frac{30}{50} = \\frac{3}{5}$, to be trivial examples.\n",
    "\n",
    "There are exactly four non-trivial examples of this type of fraction, less than one in value, and containing two digits in the numerator and denominator.\n",
    "\n",
    "If the product of these four fractions is given in its lowest common terms, find the value of the denominator."
   ]
  },
  {
   "cell_type": "markdown",
   "id": "b47b8908",
   "metadata": {},
   "source": [
    "Our idea here is to use some for loops, and a fair amount of if statements. First of all we want $\\frac{x}{y}<1$ with $10\\leq x,y < 100$ and to make sure that the digits of the numbers we are dealing with do not include a $0$. We'll begin by writing the digits of a number."
   ]
  },
  {
   "cell_type": "code",
   "execution_count": null,
   "id": "01f9390f",
   "metadata": {},
   "outputs": [],
   "source": [
    "x = 49\n",
    "y = 98\n",
    "x_digits = [int(a) for a in str(x)]\n",
    "y_digits = [int(a) for a in str(y)]\n",
    "\n",
    "print(x_digits, y_digits)"
   ]
  },
  {
   "cell_type": "markdown",
   "id": "40e084a5",
   "metadata": {},
   "source": [
    "Next we want to scan through the digits and see if there is a $0$, if $x/y$ is less than one, and some other statements described in the comments below."
   ]
  },
  {
   "cell_type": "code",
   "execution_count": null,
   "id": "43247ff1",
   "metadata": {},
   "outputs": [],
   "source": [
    "from fractions import Fraction\n",
    "\n",
    "x = 49\n",
    "y = 98\n",
    "\n",
    "numbers = []\n",
    "\n",
    "if x / y < 1:\n",
    "    x_digits = [int(a) for a in str(x)]\n",
    "    y_digits = [int(a) for a in str(y)]\n",
    "    for x_dig in x_digits: # look at each x digit\n",
    "        for y_dig in y_digits: # look at each y digit\n",
    "            if x_dig and y_dig != 0: # make sure our digits are not zero\n",
    "                #print(x_dig, y_dig)\n",
    "                if x_dig == y_dig: # see if the x and y digits have anything in common\n",
    "                    x_digits.remove(x_dig) # remove the x digit\n",
    "                    y_digits.remove(y_dig) # remove the y digit\n",
    "                    new_x, new_y = x_digits[0], y_digits[0]\n",
    "                    # We made sure that x/y_dig were not zero but now our new variables are pulled from the total list of\n",
    "                    # digits so there is a possiblity that one of those could be zero\n",
    "                    if new_x and new_y != 0:\n",
    "                        if x/y == new_x / new_y: # Check to see if our original x/y is eqal to the reduced x_new/y_new\n",
    "                                   numbers.append(new_x / new_y)     \n",
    "\n",
    "# Convert the float into a reduced fraction\n",
    "print(numbers)\n",
    "answer = Fraction(numbers[0]).limit_denominator()\n",
    "print(answer)"
   ]
  },
  {
   "cell_type": "markdown",
   "id": "57060696",
   "metadata": {},
   "source": [
    "As this was for a single $x$ and $y$ we create a two for loops both from $10$ to $99$, applying the code above with a few additions at the end. The goal of this problem is to find the denominator of the product of all the fractions (in reduced form) which satisfy the above algorithm. As we did before, we append all $x_{new}/y_{new}$ then in the end we can take the product of the entire list (using numpy) and then use fractions to convert the float output into a reduced fraction."
   ]
  },
  {
   "cell_type": "code",
   "execution_count": null,
   "id": "83dde331",
   "metadata": {},
   "outputs": [],
   "source": [
    "import numpy as np\n",
    "from fractions import Fraction\n",
    "import time as time\n",
    "t1 = time.time()\n",
    "\n",
    "numbers = []\n",
    "count = 0\n",
    "\n",
    "for x in range(10, 100):\n",
    "    for y in range(10, 100):\n",
    "        if x / y < 1:\n",
    "            x_digits = [int(a) for a in str(x)]\n",
    "            y_digits = [int(a) for a in str(y)]\n",
    "            for x_dig in x_digits:\n",
    "                for y_dig in y_digits:\n",
    "                    if x_dig != 0: \n",
    "                        if y_dig != 0:\n",
    "                            if x_dig == y_dig:\n",
    "                                x_digits.remove(x_dig) \n",
    "                                y_digits.remove(y_dig)\n",
    "                                new_x = x_digits[0]\n",
    "                                new_y = y_digits[0]\n",
    "                                if new_x and new_y != 0:\n",
    "                                    if x/y == new_x / new_y:\n",
    "                                        numbers.append(new_x / new_y)\n",
    "                                        count += 1\n",
    "                                    \n",
    "product = np.prod(numbers)\n",
    "solution = Fraction(product).limit_denominator()\n",
    "print(solution)\n",
    "print(count)\n",
    "\n",
    "t2 = time.time()\n",
    "print(f'Program Execution Time: {t2-t1} seconds')"
   ]
  },
  {
   "cell_type": "markdown",
   "id": "9fd5d015",
   "metadata": {},
   "source": [
    "We arrive at our solution very quickly, mainly due to the excessive/good use of if statements."
   ]
  }
 ],
 "metadata": {
  "kernelspec": {
   "display_name": "Python 3 (ipykernel)",
   "language": "python",
   "name": "python3"
  },
  "language_info": {
   "codemirror_mode": {
    "name": "ipython",
    "version": 3
   },
   "file_extension": ".py",
   "mimetype": "text/x-python",
   "name": "python",
   "nbconvert_exporter": "python",
   "pygments_lexer": "ipython3",
   "version": "3.9.12"
  }
 },
 "nbformat": 4,
 "nbformat_minor": 5
}
