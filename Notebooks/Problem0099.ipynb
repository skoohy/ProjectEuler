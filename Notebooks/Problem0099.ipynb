{
 "cells": [
  {
   "cell_type": "markdown",
   "id": "31702498",
   "metadata": {},
   "source": [
    "# Problem 99: Largest exponential"
   ]
  },
  {
   "cell_type": "markdown",
   "id": "117a23ae",
   "metadata": {},
   "source": [
    "### Description: \n",
    "\n",
    "Comparing two numbers written in index form like $211$ and $37$ is not difficult, as any calculator would confirm that $211 = 2048 < 37 = 2187$.\n",
    "\n",
    "However, confirming that $632382^{518061} > 519432^{525806}$ would be much more difficult, as both numbers contain over three million digits.\n",
    "\n",
    "Using base_exp.txt, a 22K text file containing one thousand lines with a base/exponent pair on each line, determine which line number has the greatest numerical value.\n",
    "\n",
    "NOTE: The first two lines in the file represent the numbers in the example given above.\n",
    "\n",
    "Link to base_exp.txt: https://projecteuler.net/problem=99"
   ]
  },
  {
   "cell_type": "markdown",
   "id": "07899534",
   "metadata": {},
   "source": [
    "If we were to loop over the entire file and test the inequality for each pair this would take a fair amount of time."
   ]
  },
  {
   "cell_type": "code",
   "execution_count": null,
   "id": "8276ce6f",
   "metadata": {},
   "outputs": [],
   "source": [
    "import time\n",
    "t1 = time.time()\n",
    "\n",
    "632382**518061 > 519432**525806\n",
    "\n",
    "t2 = time.time()\n",
    "print(t2-t1)"
   ]
  },
  {
   "cell_type": "markdown",
   "id": "ac66da68",
   "metadata": {},
   "source": [
    "This takes about $2.2$ seconds, for one pair. There are $1000$ pairs in the .txt file. We can assume that this first case is not the greatest and so throughout the file numbers will become larger and take even longer to compute. Looping over the files would take minimally and roughly $1000 \\times 2.2$ seconds = $37$ minutes\n",
    "\n",
    "We can actually just simplfy each pair of numbers by taking the $log$ (and applying $log$ rules) of them and comparing the next pairs this way."
   ]
  },
  {
   "cell_type": "code",
   "execution_count": null,
   "id": "cf94164b",
   "metadata": {},
   "outputs": [],
   "source": [
    "import numpy as np\n",
    "t1 = time.time()\n",
    "\n",
    "x1 = 632382\n",
    "x2 = 518061\n",
    "\n",
    "y1 = 519432\n",
    "y2 = 525806\n",
    "\n",
    "num1 = x2*np.log(x1)\n",
    "num2 = y2*np.log(y1)\n",
    "\n",
    "num1 > num2\n",
    "\n",
    "t2 = time.time()\n",
    "print(t2-t1)"
   ]
  },
  {
   "cell_type": "markdown",
   "id": "2ded3e2d",
   "metadata": {},
   "source": [
    "As we can see now, this take \"$0.0$\" seconds. Now we can loop over the files will using logirithms. Our data will be an array of array's and so in the previous code $x1$ will be $x[0]$ and $x2$ will be $x[1]$. We are trying to find not which pair of numbers is largest but what the index is, such as 1st, 4th, 73rd ..."
   ]
  },
  {
   "cell_type": "code",
   "execution_count": null,
   "id": "079329a1",
   "metadata": {},
   "outputs": [],
   "source": [
    "import numpy as np\n",
    "import time\n",
    "t1 = time.time()\n",
    "\n",
    "data = np.loadtxt(\"./data/p099_base_exp.txt\", delimiter=',') # load data\n",
    "\n",
    "largest, max_index, count = 0, 0 , 1 # largest pair found, index of that largest pair, keep count of all index\n",
    "\n",
    "for x in data: # x  will be an array such as [632382 518061]\n",
    "    value = x[1]*np.log(x[0])\n",
    "    if value > largest: # compare value with the previous value\n",
    "        largest = value # save current largest value pair\n",
    "        max_index = count # save the index at which the largest pair was found\n",
    "    count += 1\n",
    "\n",
    "print(max_index)\n",
    "\n",
    "t2 = time.time()\n",
    "print(f'Program Execution Time: {t2-t1} seconds')"
   ]
  }
 ],
 "metadata": {
  "kernelspec": {
   "display_name": "Python 3 (ipykernel)",
   "language": "python",
   "name": "python3"
  },
  "language_info": {
   "codemirror_mode": {
    "name": "ipython",
    "version": 3
   },
   "file_extension": ".py",
   "mimetype": "text/x-python",
   "name": "python",
   "nbconvert_exporter": "python",
   "pygments_lexer": "ipython3",
   "version": "3.9.12"
  }
 },
 "nbformat": 4,
 "nbformat_minor": 5
}
