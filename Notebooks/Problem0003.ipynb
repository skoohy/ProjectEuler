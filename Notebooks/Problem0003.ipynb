{
 "cells": [
  {
   "cell_type": "markdown",
   "id": "e132ef27",
   "metadata": {},
   "source": [
    "# Problem 3: Largest prime factor"
   ]
  },
  {
   "cell_type": "markdown",
   "id": "5376811d",
   "metadata": {},
   "source": [
    "### Description: \n",
    "The prime factors of $13195$ are $5$, $7$, $13$ and $29$.\n",
    "\n",
    "What is the largest prime factor of the number $600851475143$?"
   ]
  },
  {
   "cell_type": "markdown",
   "id": "318ef198",
   "metadata": {},
   "source": [
    "Let's first work out the base case, \"the prime factors of $13195$ are $5$, $7$, $13$ and $29$\". We first create an empty list for the prime factors of $13195$."
   ]
  },
  {
   "cell_type": "code",
   "execution_count": null,
   "id": "7213b22a",
   "metadata": {},
   "outputs": [],
   "source": [
    "N = 13195\n",
    "factors = []"
   ]
  },
  {
   "cell_type": "markdown",
   "id": "64ce42b6",
   "metadata": {},
   "source": [
    "We define \"$C$\" to be a prime factor, if the remainder from $\\frac{N}{C}$ is $0$, then $C$ is a prime factor of $N$. We use the python operator \"%\" to find the remainder of $\\frac{N}{C}$. To be a prime factor $C \\leq N$. I present an example of using the \"%\" operator, then following, finding all the prime factors of $13195$."
   ]
  },
  {
   "cell_type": "code",
   "execution_count": null,
   "id": "3990637c",
   "metadata": {},
   "outputs": [],
   "source": [
    "N, C = 20, 5\n",
    "print(f'{C} is a prime factor of {N} because {N} % {C} = {N % C}')"
   ]
  },
  {
   "cell_type": "code",
   "execution_count": null,
   "id": "4a134683",
   "metadata": {},
   "outputs": [],
   "source": [
    "import time\n",
    "start_time = time.time()\n",
    "\n",
    "\n",
    "N = 13195\n",
    "factors = []\n",
    "\n",
    "C = 2\n",
    "while N > 1:\n",
    "    if N % C == 0:\n",
    "        factors.append(C)\n",
    "        N = N / C # The while loop will stop when N/C < 1, meaning there are no possible prime factors left to be found\n",
    "    else:\n",
    "        C = C + 1\n",
    "\n",
    "print(f'The prime factors of {N} are {factors}')\n",
    "\n",
    "\n",
    "end_time = time.time()\n",
    "print(f'Program Execution Time: {end_time-start_time} seconds')"
   ]
  },
  {
   "cell_type": "markdown",
   "id": "3c71763b",
   "metadata": {},
   "source": [
    "We can easily make this into a function for $N = 600851475143$, then find the max of the prime factors list."
   ]
  },
  {
   "cell_type": "code",
   "execution_count": null,
   "id": "40b126d5",
   "metadata": {},
   "outputs": [],
   "source": [
    "import time\n",
    "start_time = time.time()\n",
    "\n",
    "def prime_factorization(N):\n",
    "    factors = []\n",
    "    C = 2\n",
    "    while N > 1:\n",
    "        if N % C == 0:\n",
    "            factors.append(C)\n",
    "            N = N / C\n",
    "        else:\n",
    "            C = C + 1\n",
    "    return factors\n",
    "\n",
    "N = 600851475143 \n",
    "\n",
    "print(max(prime_factorization(N)))\n",
    "\n",
    "end_time = time.time()\n",
    "print(f'Program Execution Time: {end_time-start_time} seconds')"
   ]
  },
  {
   "cell_type": "markdown",
   "id": "bc8d0675",
   "metadata": {},
   "source": [
    "Instead of appending to a list we can also create a variable that is just the largest prime factor, updating this variable every time we find a new largest prime factor."
   ]
  },
  {
   "cell_type": "code",
   "execution_count": null,
   "id": "909b0f3e",
   "metadata": {},
   "outputs": [],
   "source": [
    "import time\n",
    "start_time = time.time()\n",
    "\n",
    "def max_prime_factor(N):\n",
    "    max_factor = 0\n",
    "    C = 2\n",
    "    while N > 1:\n",
    "        if N % C == 0:\n",
    "            max_factor = N\n",
    "            N = N / C\n",
    "        else:\n",
    "            C = C + 1\n",
    "    return max_factor\n",
    "\n",
    "N = 600851475143 \n",
    "\n",
    "print(max_prime_factor(N))\n",
    "\n",
    "end_time = time.time()\n",
    "print(f'Program Execution Time: {end_time-start_time} seconds')"
   ]
  }
 ],
 "metadata": {
  "kernelspec": {
   "display_name": "Python 3 (ipykernel)",
   "language": "python",
   "name": "python3"
  },
  "language_info": {
   "codemirror_mode": {
    "name": "ipython",
    "version": 3
   },
   "file_extension": ".py",
   "mimetype": "text/x-python",
   "name": "python",
   "nbconvert_exporter": "python",
   "pygments_lexer": "ipython3",
   "version": "3.9.12"
  }
 },
 "nbformat": 4,
 "nbformat_minor": 5
}
