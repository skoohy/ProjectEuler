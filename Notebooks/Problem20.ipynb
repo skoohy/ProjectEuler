{
 "cells": [
  {
   "cell_type": "markdown",
   "id": "09720779",
   "metadata": {},
   "source": [
    "# Problem: Factorial digit sum"
   ]
  },
  {
   "cell_type": "markdown",
   "id": "62c4ce73",
   "metadata": {},
   "source": [
    "### Description: \n",
    "\n",
    "$n!$ means $n × (n − 1) × ... × 3 × 2 × 1$\n",
    "\n",
    "For example, $10! = 10 × 9 × ... × 3 × 2 × 1 = 3628800$,\n",
    "and the sum of the digits in the number $10!$ is $3 + 6 + 2 + 8 + 8 + 0 + 0 = 27$.\n",
    "\n",
    "Find the sum of the digits in the number $100!$"
   ]
  },
  {
   "cell_type": "markdown",
   "id": "a6975ca8",
   "metadata": {},
   "source": [
    "As seen in many other problems we write the digits of a number by doing the following"
   ]
  },
  {
   "cell_type": "code",
   "execution_count": 1,
   "id": "665a94bb",
   "metadata": {},
   "outputs": [
    {
     "name": "stdout",
     "output_type": "stream",
     "text": [
      "[3, 6, 2, 8, 8, 0, 0]\n"
     ]
    }
   ],
   "source": [
    "ex = 3628800\n",
    "digits_of_ex = [int(a) for a in str(ex)]\n",
    "print(digits_of_ex)"
   ]
  },
  {
   "cell_type": "markdown",
   "id": "5e2276ab",
   "metadata": {},
   "source": [
    "We can use the factorial function found in either numpy, math,..., or we can create our own factorial function. We will do all 3 of these and compare the reuslts."
   ]
  },
  {
   "cell_type": "markdown",
   "id": "d7a1bed4",
   "metadata": {},
   "source": [
    "Using NumPy"
   ]
  },
  {
   "cell_type": "code",
   "execution_count": 2,
   "id": "eaeda3c3",
   "metadata": {},
   "outputs": [
    {
     "name": "stdout",
     "output_type": "stream",
     "text": [
      "648\n",
      "0.0 seconds\n"
     ]
    }
   ],
   "source": [
    "import time\n",
    "import numpy as np\n",
    "start_time = time.time()\n",
    "\n",
    "print(sum([int(a) for a in str(np.math.factorial(100))]))\n",
    "\n",
    "print(\"%s seconds\" % (time.time() - start_time))"
   ]
  },
  {
   "cell_type": "markdown",
   "id": "866595a9",
   "metadata": {},
   "source": [
    "Using Math"
   ]
  },
  {
   "cell_type": "code",
   "execution_count": 4,
   "id": "ff7b13fa",
   "metadata": {},
   "outputs": [
    {
     "name": "stdout",
     "output_type": "stream",
     "text": [
      "648\n",
      "0.0 seconds\n"
     ]
    }
   ],
   "source": [
    "import time\n",
    "import math as m\n",
    "start_time = time.time()\n",
    "\n",
    "print(sum([int(a) for a in str(m.factorial(100))]))\n",
    "\n",
    "print(\"%s seconds\" % (time.time() - start_time))"
   ]
  },
  {
   "cell_type": "markdown",
   "id": "95df45a6",
   "metadata": {},
   "source": [
    "Creating our own factorial"
   ]
  },
  {
   "cell_type": "code",
   "execution_count": 5,
   "id": "498de5a3",
   "metadata": {},
   "outputs": [
    {
     "name": "stdout",
     "output_type": "stream",
     "text": [
      "648\n",
      "0.0 seconds\n"
     ]
    }
   ],
   "source": [
    "import time\n",
    "start_time = time.time()\n",
    "\n",
    "def factorial(n):\n",
    "    \"\"\"Returns the factorial of n, for n >= 0\"\"\"\n",
    "    result = 1\n",
    "    for ni in range(2, n+1):\n",
    "        result = result * ni\n",
    "    return result\n",
    "\n",
    "\n",
    "print(sum([int(a) for a in str(factorial(100))]))\n",
    "\n",
    "print(\"%s seconds\" % (time.time() - start_time))"
   ]
  },
  {
   "cell_type": "markdown",
   "id": "eddccd4e",
   "metadata": {},
   "source": [
    "We can see all methods produce the same result and are fast"
   ]
  }
 ],
 "metadata": {
  "kernelspec": {
   "display_name": "Python 3 (ipykernel)",
   "language": "python",
   "name": "python3"
  },
  "language_info": {
   "codemirror_mode": {
    "name": "ipython",
    "version": 3
   },
   "file_extension": ".py",
   "mimetype": "text/x-python",
   "name": "python",
   "nbconvert_exporter": "python",
   "pygments_lexer": "ipython3",
   "version": "3.9.12"
  }
 },
 "nbformat": 4,
 "nbformat_minor": 5
}
