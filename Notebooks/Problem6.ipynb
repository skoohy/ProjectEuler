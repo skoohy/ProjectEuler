{
 "cells": [
  {
   "cell_type": "markdown",
   "id": "d11b0263",
   "metadata": {},
   "source": [
    "# Project Euler 6: Sum square difference"
   ]
  },
  {
   "cell_type": "markdown",
   "id": "52395210",
   "metadata": {},
   "source": [
    "### Description: \n",
    "The sum of the squares of the first ten natural numbers is,\n",
    "\n",
    "$$ 1^2 + 2^2 + ... + 10^2 = 385 $$\n",
    "\n",
    "The square of the sum of the first ten natural numbers is,\n",
    "\n",
    "$$ (1 + 2 + ... + 10)^2 = 3025 $$\n",
    "\n",
    "Hence the difference between the sum of the squares of the first ten natural numbers and the square of the sum is,\n",
    "\n",
    "$$ 3025 - 385 = 2640 $$\n",
    "\n",
    "Find the difference between the sum of the squares of the first one hundred natural numbers and the square of the sum."
   ]
  },
  {
   "cell_type": "markdown",
   "id": "287fc51e",
   "metadata": {},
   "source": [
    "Lets computte the first base case"
   ]
  },
  {
   "cell_type": "code",
   "execution_count": 2,
   "id": "6dd23748",
   "metadata": {},
   "outputs": [
    {
     "data": {
      "text/plain": [
       "385"
      ]
     },
     "execution_count": 2,
     "metadata": {},
     "output_type": "execute_result"
    }
   ],
   "source": [
    "Sum_Squares = 0\n",
    "\n",
    "for i in range(1, 11):\n",
    "    Sum_Squares = Sum_Squares + (i)**2\n",
    "\n",
    "Sum_Squares    "
   ]
  },
  {
   "cell_type": "markdown",
   "id": "45acea3e",
   "metadata": {},
   "source": [
    "Second base case"
   ]
  },
  {
   "cell_type": "code",
   "execution_count": 9,
   "id": "0bc0c0d2",
   "metadata": {},
   "outputs": [
    {
     "data": {
      "text/plain": [
       "3025"
      ]
     },
     "execution_count": 9,
     "metadata": {},
     "output_type": "execute_result"
    }
   ],
   "source": [
    "s = 0\n",
    "\n",
    "for i in range(1, 11):\n",
    "    s = s + i\n",
    "\n",
    "Square_Sum = (s)**2  \n",
    "Square_Sum"
   ]
  },
  {
   "cell_type": "code",
   "execution_count": 8,
   "id": "58254e5c",
   "metadata": {},
   "outputs": [
    {
     "data": {
      "text/plain": [
       "2640"
      ]
     },
     "execution_count": 8,
     "metadata": {},
     "output_type": "execute_result"
    }
   ],
   "source": [
    "Square_Sum - Sum_Squares"
   ]
  },
  {
   "cell_type": "markdown",
   "id": "3150a33c",
   "metadata": {},
   "source": [
    "Lets combine these two methods and expanding it to thr first 100 natural numbers not just the first 10"
   ]
  },
  {
   "cell_type": "code",
   "execution_count": 1,
   "id": "e748e31d",
   "metadata": {},
   "outputs": [
    {
     "name": "stdout",
     "output_type": "stream",
     "text": [
      "25164150\n",
      "0.0 seconds\n"
     ]
    }
   ],
   "source": [
    "import time\n",
    "start_time = time.time()\n",
    "\n",
    "Sum_Squares = 0\n",
    "S = 0\n",
    "\n",
    "for i in range(1, 101):\n",
    "    Sum_Squares += (i)**2\n",
    "    S += i\n",
    "    \n",
    "Square_Sum = (S)**2\n",
    "\n",
    "print(Square_Sum - Sum_Squares)\n",
    "print(\"%s seconds\" % (time.time() - start_time))"
   ]
  }
 ],
 "metadata": {
  "kernelspec": {
   "display_name": "Python 3 (ipykernel)",
   "language": "python",
   "name": "python3"
  },
  "language_info": {
   "codemirror_mode": {
    "name": "ipython",
    "version": 3
   },
   "file_extension": ".py",
   "mimetype": "text/x-python",
   "name": "python",
   "nbconvert_exporter": "python",
   "pygments_lexer": "ipython3",
   "version": "3.9.12"
  }
 },
 "nbformat": 4,
 "nbformat_minor": 5
}
