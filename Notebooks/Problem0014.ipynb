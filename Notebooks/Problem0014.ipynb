{
 "cells": [
  {
   "cell_type": "markdown",
   "id": "5375661c",
   "metadata": {},
   "source": [
    "# Problem 14: Longest Collatz sequence"
   ]
  },
  {
   "cell_type": "markdown",
   "id": "d929e845",
   "metadata": {},
   "source": [
    "### Description:\n",
    "\n",
    "The following iterative sequence is defined for the set of positive integers:\n",
    "\n",
    "$$n → n/2 \\quad \\text{(n is even)}$$\n",
    "$$n → 3n + 1 \\quad \\text{(n is odd)}$$\n",
    "\n",
    "Using the rule above and starting with 13, we generate the following sequence:\n",
    "\n",
    "$$13 → 40 → 20 → 10 → 5 → 16 → 8 → 4 → 2 → 1$$\n",
    "\n",
    "It can be seen that this sequence (starting at $13$ and finishing at $1$) contains $10$ terms. Although it has not been proved yet (Collatz Problem), it is thought that all starting numbers finish at $1$.\n",
    "\n",
    "Which starting number, under one million, produces the longest chain?\n",
    "\n",
    "**NOTE:** Once the chain starts the terms are allowed to go above one million."
   ]
  },
  {
   "cell_type": "markdown",
   "id": "57afe55c",
   "metadata": {},
   "source": [
    "First we need a way to determine if a number is even or odd."
   ]
  },
  {
   "cell_type": "code",
   "execution_count": null,
   "id": "15b55748",
   "metadata": {},
   "outputs": [],
   "source": [
    "nums = [1, 3, 2, 203, 15, 6, 802]\n",
    "for num in nums:\n",
    "    if num % 2 == 0:\n",
    "        print(f'{num} is even')\n",
    "    else:\n",
    "        print(f'{num} is odd')"
   ]
  },
  {
   "cell_type": "markdown",
   "id": "9e89d576",
   "metadata": {},
   "source": [
    "We now can create a variable for our largest chain of numbers, and a list containing the numbers in the chain. We assume that all number reduce to $1$, which we initialize our list with."
   ]
  },
  {
   "cell_type": "code",
   "execution_count": null,
   "id": "23970894",
   "metadata": {},
   "outputs": [],
   "source": [
    "largest_chain = 0\n",
    "chain = [1]"
   ]
  },
  {
   "cell_type": "markdown",
   "id": "32b18b79",
   "metadata": {},
   "source": [
    "We will create a lopp from $2$ to $1,000,000$, implementing the odd/even algoirthm, our variables and a test to checking which chain has the most numbers in it. We do this by the following:"
   ]
  },
  {
   "cell_type": "code",
   "execution_count": null,
   "id": "1c7b62a2",
   "metadata": {},
   "outputs": [],
   "source": [
    "# Pseudocode\n",
    "num = ... # current number in loop\n",
    "    if len(chain) > largest_chain:\n",
    "        largest_chain = len(chain)\n",
    "        best_number = num"
   ]
  },
  {
   "cell_type": "markdown",
   "id": "b09e8c94",
   "metadata": {},
   "source": [
    "The only thing we have to add now is how we reduce our numbers when getting an odd or even number. If our current number in the loop is even we divide it by $2$ and if it is odd we multiply it by $3$ then add $1$. We want to do this constantly until we reach $1$, our stopping point. We achieve this by a while True loop, when we reach n=1 we break the loop and move on the our next number. The full code is implemented below:"
   ]
  },
  {
   "cell_type": "code",
   "execution_count": null,
   "id": "16837e02",
   "metadata": {},
   "outputs": [],
   "source": [
    "import time\n",
    "t1 = time.time()\n",
    "\n",
    "largest_chain = 0\n",
    "for n in range(2, 1000000):\n",
    "    chain = [1]\n",
    "    num = n # we save n here because inside the while loop, n will be reduced to 1\n",
    "    while True:\n",
    "        if n % 2 == 0: # is it even\n",
    "            chain.append(n)\n",
    "            n = n / 2\n",
    "            \n",
    "        elif n == 1: # our ending/breaking point, this is when we move to the next number in the for loop\n",
    "            break\n",
    "            \n",
    "        else: # not even means its odd\n",
    "            chain.append(n)\n",
    "            n = 3*n + 1 \n",
    "            \n",
    "    if len(chain) > largest_chain: # compare chain length of current number\n",
    "        largest_chain = len(chain)\n",
    "        best_number = num\n",
    "print(best_number)\n",
    "\n",
    "t2 = time.time()\n",
    "print(f'Program Execution Time: {t2-t1} seconds')"
   ]
  }
 ],
 "metadata": {
  "kernelspec": {
   "display_name": "Python 3 (ipykernel)",
   "language": "python",
   "name": "python3"
  },
  "language_info": {
   "codemirror_mode": {
    "name": "ipython",
    "version": 3
   },
   "file_extension": ".py",
   "mimetype": "text/x-python",
   "name": "python",
   "nbconvert_exporter": "python",
   "pygments_lexer": "ipython3",
   "version": "3.9.12"
  }
 },
 "nbformat": 4,
 "nbformat_minor": 5
}
