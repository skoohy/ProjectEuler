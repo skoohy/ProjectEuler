{
 "cells": [
  {
   "cell_type": "markdown",
   "id": "2dbbd9d8",
   "metadata": {},
   "source": [
    "# Problem 53: Powerful digit sum"
   ]
  },
  {
   "cell_type": "markdown",
   "id": "1e87cd37",
   "metadata": {},
   "source": [
    "### Description: \n",
    "\n",
    "A googol ($10^{100}$) is a massive number: one followed by one-hundred zeros; $100^{100}$ is almost unimaginably large: one followed by two-hundred zeros. Despite their size, the sum of the digits in each number is only $1$.\n",
    "\n",
    "Considering natural numbers of the form, $a^b$, where $a, b < 100$, what is the maximum digital sum?"
   ]
  },
  {
   "cell_type": "markdown",
   "id": "801cb80b",
   "metadata": {},
   "source": [
    "We can begin by just creating a variable of \"max_sum\" which will be updated as we find numbers of the form $a^b$ that have a greater sum of digits than previously found."
   ]
  },
  {
   "cell_type": "code",
   "execution_count": 7,
   "id": "1ed51ea3",
   "metadata": {},
   "outputs": [],
   "source": [
    "max_sum = 0"
   ]
  },
  {
   "cell_type": "markdown",
   "id": "f3ca9185",
   "metadata": {},
   "source": [
    "Next we create two for loops, one to run through the values of $a$ and another for the values of $b$, such that $a,b<100$. Once we have that we need to find the digits of $a^b$, we can do that by the following code using $a=15$, $b=12$ as an example. "
   ]
  },
  {
   "cell_type": "code",
   "execution_count": 10,
   "id": "0977a5f2",
   "metadata": {},
   "outputs": [
    {
     "name": "stdout",
     "output_type": "stream",
     "text": [
      "129746337890625\n",
      "[1, 2, 9, 7, 4, 6, 3, 3, 7, 8, 9, 0, 6, 2, 5]\n"
     ]
    },
    {
     "data": {
      "text/plain": [
       "72"
      ]
     },
     "execution_count": 10,
     "metadata": {},
     "output_type": "execute_result"
    }
   ],
   "source": [
    "a = 15\n",
    "b = 12\n",
    "print(a**b)\n",
    "digits = [int(digit) for digit in str(a**b)]\n",
    "print(digits)\n",
    "\n",
    "digit_sum = sum(digits)\n",
    "digit_sum"
   ]
  },
  {
   "cell_type": "markdown",
   "id": "505d81e6",
   "metadata": {},
   "source": [
    "As we can see, the digits and the sum of the digits have been found for $15^12$, now lets implement the loop and our \"max_sum\" algorithm."
   ]
  },
  {
   "cell_type": "code",
   "execution_count": 13,
   "id": "7e9339d1",
   "metadata": {},
   "outputs": [
    {
     "name": "stdout",
     "output_type": "stream",
     "text": [
      "972\n",
      "Program Execution Time: 0.10102272033691406 seconds\n"
     ]
    }
   ],
   "source": [
    "import time\n",
    "t1 = time.time()\n",
    "\n",
    "max_sum = 0\n",
    "for a in range(1,100):\n",
    "    for b in range(1,100):\n",
    "            digit_sum = sum([int(a) for a in str(a**b)])\n",
    "            if digit_sum > max_sum:\n",
    "                max_sum = digit_sum\n",
    "\n",
    "print(max(digit_sums))\n",
    "\n",
    "t2 = time.time()\n",
    "print(f'Program Execution Time: {t2-t1} seconds')"
   ]
  },
  {
   "cell_type": "markdown",
   "id": "0f1607cd",
   "metadata": {},
   "source": [
    "Alternate solution"
   ]
  },
  {
   "cell_type": "code",
   "execution_count": 15,
   "id": "caf4ed96",
   "metadata": {},
   "outputs": [
    {
     "name": "stdout",
     "output_type": "stream",
     "text": [
      "972\n",
      "0.10502386093139648\n"
     ]
    }
   ],
   "source": [
    "import time\n",
    "t1 = time.time()\n",
    "\n",
    "digit_sums = []\n",
    "for a in range(1,100):\n",
    "    for b in range(1,100):\n",
    "            digits = [int(a) for a in str(a**b)]\n",
    "            digit_sums.append(sum(digits))\n",
    "\n",
    "print(max(digit_sums))\n",
    "t2 = time.time()\n",
    "print(t2-t1)"
   ]
  }
 ],
 "metadata": {
  "kernelspec": {
   "display_name": "Python 3 (ipykernel)",
   "language": "python",
   "name": "python3"
  },
  "language_info": {
   "codemirror_mode": {
    "name": "ipython",
    "version": 3
   },
   "file_extension": ".py",
   "mimetype": "text/x-python",
   "name": "python",
   "nbconvert_exporter": "python",
   "pygments_lexer": "ipython3",
   "version": "3.9.12"
  }
 },
 "nbformat": 4,
 "nbformat_minor": 5
}
