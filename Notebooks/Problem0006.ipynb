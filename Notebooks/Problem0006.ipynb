{
 "cells": [
  {
   "cell_type": "markdown",
   "id": "d11b0263",
   "metadata": {},
   "source": [
    "# Problem 6: Sum square difference"
   ]
  },
  {
   "cell_type": "markdown",
   "id": "52395210",
   "metadata": {},
   "source": [
    "### Description: \n",
    "The sum of the squares of the first ten natural numbers is,\n",
    "\n",
    "$$ 1^2 + 2^2 + ... + 10^2 = 385 $$\n",
    "\n",
    "The square of the sum of the first ten natural numbers is,\n",
    "\n",
    "$$ (1 + 2 + ... + 10)^2 = 3025 $$\n",
    "\n",
    "Hence the difference between the sum of the squares of the first ten natural numbers and the square of the sum is,\n",
    "\n",
    "$$ 3025 - 385 = 2640 $$\n",
    "\n",
    "Find the difference between the sum of the squares of the first one hundred natural numbers and the square of the sum."
   ]
  },
  {
   "cell_type": "markdown",
   "id": "287fc51e",
   "metadata": {},
   "source": [
    "Let's compute the first base case."
   ]
  },
  {
   "cell_type": "code",
   "execution_count": null,
   "id": "6dd23748",
   "metadata": {},
   "outputs": [],
   "source": [
    "sum_of_squares = 0\n",
    "\n",
    "for i in range(1, 11):\n",
    "    sum_of_squares += (i)**2\n",
    "\n",
    "print(sum_of_squares)    "
   ]
  },
  {
   "cell_type": "markdown",
   "id": "45acea3e",
   "metadata": {},
   "source": [
    "Second base case."
   ]
  },
  {
   "cell_type": "code",
   "execution_count": null,
   "id": "0bc0c0d2",
   "metadata": {},
   "outputs": [],
   "source": [
    "s = 0\n",
    "\n",
    "for i in range(1, 11):\n",
    "    s += i\n",
    "\n",
    "square_of_sum = (s)**2  \n",
    "\n",
    "print(square_of_sum)"
   ]
  },
  {
   "cell_type": "code",
   "execution_count": null,
   "id": "58254e5c",
   "metadata": {},
   "outputs": [],
   "source": [
    "print(square_of_sum - sum_of_squares)"
   ]
  },
  {
   "cell_type": "markdown",
   "id": "3150a33c",
   "metadata": {},
   "source": [
    "Lets combine these two methods, expanding it to the first $100$ natural numbers, not just the first $10$."
   ]
  },
  {
   "cell_type": "code",
   "execution_count": null,
   "id": "e748e31d",
   "metadata": {},
   "outputs": [],
   "source": [
    "import time\n",
    "start_time = time.time()\n",
    "\n",
    "\n",
    "sum_of_squares = 0\n",
    "s = 0\n",
    "\n",
    "for i in range(1, 101):\n",
    "    sum_of_squares += (i)**2\n",
    "    s += i\n",
    "    \n",
    "square_of_sum = (s)**2\n",
    "\n",
    "print(square_of_sum - sum_of_squares)\n",
    "\n",
    "\n",
    "end_time = time.time()\n",
    "print(f'Program Execution Time: {end_time-start_time} seconds')"
   ]
  }
 ],
 "metadata": {
  "kernelspec": {
   "display_name": "Python 3 (ipykernel)",
   "language": "python",
   "name": "python3"
  },
  "language_info": {
   "codemirror_mode": {
    "name": "ipython",
    "version": 3
   },
   "file_extension": ".py",
   "mimetype": "text/x-python",
   "name": "python",
   "nbconvert_exporter": "python",
   "pygments_lexer": "ipython3",
   "version": "3.9.12"
  }
 },
 "nbformat": 4,
 "nbformat_minor": 5
}
