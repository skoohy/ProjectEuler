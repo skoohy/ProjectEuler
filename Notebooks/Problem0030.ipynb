{
 "cells": [
  {
   "cell_type": "markdown",
   "id": "84768f09",
   "metadata": {},
   "source": [
    "# Problem 30: Digit fifth powers"
   ]
  },
  {
   "cell_type": "markdown",
   "id": "3982ff3a",
   "metadata": {},
   "source": [
    "### Description:\n",
    "\n",
    "Surprisingly there are only three numbers that can be written as the sum of fourth powers of their digits:\n",
    "\n",
    "$$1634 = 1^4 + 6^4 + 3^4 + 4^4$$\n",
    "$$8208 = 8^4 + 2^4 + 0^4 + 8^4$$\n",
    "$$9474 = 9^4 + 4^4 + 7^4 + 4^4$$\n",
    "\n",
    "As $1 = 1^4$ is not a sum it is not included.\n",
    "\n",
    "The sum of these numbers is $1634 + 8208 + 9474 = 19316$.\n",
    "\n",
    "Find the sum of all the numbers that can be written as the sum of fifth powers of their digits."
   ]
  },
  {
   "cell_type": "markdown",
   "id": "0a875438",
   "metadata": {},
   "source": [
    "Lets figure out the base case. The problem gives us that $1634 = 1^4 + 6^4 + 3^4 + 4^4$, consider a number $n$. We can check this by writing $n$'s digits out, and seeing if the sum of all the digits raised to the fourth power is equal to $n$. Essentially, if $n_1,...,n_i$ represent the digitis of a number of length $i$ then, for a four digit number, we want $n_1n_2n_3n_4 = n_1^4 + n_2^4 + n_3^4 + n_4^4$. In our case $n_1 = 1$, $n_2 = 5$, $n_3 = 3$, and $n_4 = 4$. Consider the following block of code to find the digits for $n = 1634$."
   ]
  },
  {
   "cell_type": "code",
   "execution_count": null,
   "id": "fe0e2d40",
   "metadata": {},
   "outputs": [],
   "source": [
    "n = 1634\n",
    "\n",
    "digits = [int(a) for a in str(n)]\n",
    "\n",
    "print(digits)"
   ]
  },
  {
   "cell_type": "markdown",
   "id": "d236f830",
   "metadata": {},
   "source": [
    "Now lets confirrm the base case."
   ]
  },
  {
   "cell_type": "code",
   "execution_count": null,
   "id": "25d13cb5",
   "metadata": {},
   "outputs": [],
   "source": [
    "import numpy as np # Allows us to raise powers to an array element wise\n",
    "\n",
    "n = 1634\n",
    "\n",
    "if sum( np.array([int(a) for a in str(n)])**4 ) == n:\n",
    "    print(f'The sum of {n} digits raised to the fourth power is equal to {n}')\n",
    "else:\n",
    "    print(f'The sum of {n} digits raised to the fourth power is not equal to {n}')\n"
   ]
  },
  {
   "cell_type": "markdown",
   "id": "62ac16e6",
   "metadata": {},
   "source": [
    "We know that $n \\neq 0$ and $n \\neq 1$. We first use a semi-brute-force method to check numbers, $n$, from 2 to a \"large number\" and see if the sum of the digits raised to the fifth is equal to $n$. Goal: find the sum of all the numbers that can be written as the sum of fifth powers of their digits."
   ]
  },
  {
   "cell_type": "markdown",
   "id": "6c660875",
   "metadata": {},
   "source": [
    "How do we find what that \"large number\" should be, or rather what is the largest possible upper bound for our number? We could just guess the upper to be a large number like $1,000,000$, which does work."
   ]
  },
  {
   "cell_type": "code",
   "execution_count": null,
   "id": "0c7cd07d",
   "metadata": {},
   "outputs": [],
   "source": [
    "import numpy as np\n",
    "import time\n",
    "start_time = time.time()\n",
    "\n",
    "\n",
    "solution = 0 \n",
    "for n in range(2, 1000000):\n",
    "    if sum( np.array([int(a) for a in str(n)])**5 ) == n :\n",
    "                solution = solution + n\n",
    "print(solution)\n",
    "\n",
    "\n",
    "end_time = time.time()\n",
    "print(f'Program Execution Time: {end_time-start_time} seconds')"
   ]
  },
  {
   "cell_type": "markdown",
   "id": "64ed9411",
   "metadata": {},
   "source": [
    "However, it would be better if we had a reason why this upper bound works (covers all solution) and be able to find a more clearly defined upper bound (not just a random large number). Consider a number in the form $n = d \\cdot 9^5$, this is the largest sum of digits that are raised to the fifth power, $ n = 9_1^5 + ... + 9_d^5 = n \\cdot 9^5$ where $d$ is the length or number of digits."
   ]
  },
  {
   "cell_type": "markdown",
   "id": "19f8eff7",
   "metadata": {},
   "source": [
    "We assume that the upper bound follows the inequality $10^{d-1} \\leq d\\cdot9^5 < 10^d$, we will manipulate this to solve for $d$."
   ]
  },
  {
   "cell_type": "markdown",
   "id": "dcf327e5",
   "metadata": {},
   "source": [
    "$$ 10^d-1 \\leq d\\cdot9^5 < 10^d $$\n",
    "\n",
    "$$ (d-1)\\log(10) \\leq \\log(d) + 5\\log(9) < d\\log(10)$$\n",
    "\n",
    "$$ (d-1) \\leq \\log_{10}(d) + 5\\log_{10}(9) < d $$\n",
    "\n",
    "$$ 5\\log_{10}(9) \\approx  4.77 $$\n",
    "\n",
    "$$ d \\leq \\log_{10}(d) + 5.77 < d + 1 $$\n",
    "\n",
    "$$ d -\\log_{10}(d) \\leq 5.77 < d - \\log_{10}(d) + 1 $$\n",
    "\n",
    "Plugging this in to wolframalpha gives us the following solution:\n",
    "\n",
    "$$ 5.51125 < x \\leq 6.58881 $$\n",
    "\n",
    "Our numbers will have a most 6 digits. We will use the following upper bound:\n",
    "\n",
    "$$ n = d \\cdot 9^5 = 6\\cdot9^5 = 354294 $$ "
   ]
  },
  {
   "cell_type": "code",
   "execution_count": null,
   "id": "f9384b9c",
   "metadata": {},
   "outputs": [],
   "source": [
    "import numpy as np\n",
    "import time\n",
    "start_time = time.time()\n",
    "\n",
    "\n",
    "solution = 0 \n",
    "for n in range(2, 354294):\n",
    "    if sum( np.array([int(a) for a in str(n)])**5 ) == n :\n",
    "                solution = solution + n\n",
    "print(solution)\n",
    "\n",
    "\n",
    "end_time = time.time()\n",
    "print(f'Program Execution Time: {end_time-start_time} seconds')"
   ]
  },
  {
   "cell_type": "markdown",
   "id": "01e8dfd1",
   "metadata": {},
   "source": [
    "This saves us some time and gives us a better understanding on the upper bound to reduce the number of loops we have to do. "
   ]
  }
 ],
 "metadata": {
  "kernelspec": {
   "display_name": "Python 3 (ipykernel)",
   "language": "python",
   "name": "python3"
  },
  "language_info": {
   "codemirror_mode": {
    "name": "ipython",
    "version": 3
   },
   "file_extension": ".py",
   "mimetype": "text/x-python",
   "name": "python",
   "nbconvert_exporter": "python",
   "pygments_lexer": "ipython3",
   "version": "3.9.12"
  }
 },
 "nbformat": 4,
 "nbformat_minor": 5
}
